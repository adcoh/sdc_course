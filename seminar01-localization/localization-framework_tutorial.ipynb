{
 "cells": [
  {
   "cell_type": "markdown",
   "metadata": {},
   "source": [
    "$\\newcommand{\\Normal}{\\mathcal{N}}\n",
    "\\newcommand{\\lp}{\\left(}\n",
    "\\newcommand{\\rp}{\\right)}\n",
    "\\newcommand{\\lf}{\\left\\{}\n",
    "\\newcommand{\\rf}{\\right\\}}\n",
    "\\newcommand{\\ls}{\\left[}\n",
    "\\newcommand{\\rs}{\\right]}\n",
    "\\newcommand{\\lv}{\\left|}\n",
    "\\newcommand{\\rv}{\\right|}\n",
    "\\newcommand{\\state}{x}\n",
    "\\newcommand{\\State}{\\boldx}\n",
    "\\newcommand{\\StateR}{\\boldX}\n",
    "\\newcommand{\\Covariance}{\\Sigma}\n",
    "\\newcommand{\\CovX}{\\Covariance_{\\boldX}}\n",
    "\\newcommand{\\CovY}{\\Covariance_{\\boldY}}\n",
    "\\newcommand{\\CovZ}{\\Covariance_{\\boldZ}}\n",
    "\\newcommand{\\CovXY}{\\Covariance_{\\boldX\\boldY}}\n",
    "\\newcommand{\\hatState}{\\hat{\\State}}\n",
    "\\newcommand{\\StateNum}{N}\n",
    "\\newcommand{\\StateDim}{K}\n",
    "\\newcommand{\\NumStates}{N}\n",
    "\\newcommand{\\StateToState}{A}\n",
    "\\newcommand{\\stateToState}{A}\n",
    "\\newcommand{\\StateCov}{\\Sigma}\n",
    "\\newcommand{\\StateJac}{A}\n",
    "\\newcommand{\\hatStateCov}{\\hat{\\StateCov}}\n",
    "\\newcommand{\\StateMean}{\\boldmu}\n",
    "\\newcommand{\\hatStateMean}{\\hat{\\StateMean}}\n",
    "\\newcommand{\\StateToStateHistory}{\\boldA}\n",
    "\\newcommand{\\StateNoise}{\\boldr}\n",
    "\\newcommand{\\StateNoiseCov}{R}\n",
    "\\newcommand{\\StateHistory}{\\boldX}\n",
    "\\newcommand{\\StatesHistory}{\\StateHistory}\n",
    "\\newcommand{\\StateToObserv}{C}\n",
    "\\newcommand{\\StateToobserv}{\\boldc}\n",
    "\\newcommand{\\StateToObservHistory}{\\boldC}\n",
    "\\newcommand{\\DState}{\\bolddelta}\n",
    "\\newcommand{\\hatDState}{\\hat{\\DState}}\n",
    "\\newcommand{\\DStateMean}{\\boldlambda}\n",
    "\\newcommand{\\hatDStateMean}{\\hat{\\DStateMean}}\n",
    "\\newcommand{\\DStateCov}{\\Lambda}\n",
    "\\newcommand{\\hatDStateCov}{\\hat{\\DStateCov}}\n",
    "\\newcommand{\\DObserv}{\\boldgamma}\n",
    "\\newcommand{\\hatDObserv}{\\hat{\\DObserv}}\n",
    "\\newcommand{\\observ}{z}\n",
    "\\newcommand{\\Observ}{\\boldsymbol{\\observ}}\n",
    "\\newcommand{\\ObservCov}{\\Lambda}\n",
    "\\newcommand{\\observMean}{\\lambda}\n",
    "\\newcommand{\\ObservMean}{\\boldlambda}\n",
    "\\newcommand{\\hatobserv}{\\hat{\\observ}}\n",
    "\\newcommand{\\hatObserv}{\\hat{\\Observ}}\n",
    "\\newcommand{\\hatObservCov}{\\hat{\\ObservCov}}\n",
    "\\newcommand{\\hatobservMean}{\\hat{\\observMean}}\n",
    "\\newcommand{\\hatObservMean}{\\hat{\\ObservMean}}\n",
    "\\newcommand{\\ObservSet}{\\ZZ}\n",
    "\\newcommand{\\ObservNum}{N}\n",
    "\\newcommand{\\ObservDim}{D}\n",
    "\\newcommand{\\ObservSourceNum}{M}\n",
    "\\newcommand{\\ObservHistory}{\\boldZ}\n",
    "\\newcommand{\\ObservsHistory}{\\ObservHistory}\n",
    "\\newcommand{\\Timestamps}{\\boldT}\n",
    "\\newcommand{\\ObservJac}{H}\n",
    "\\newcommand{\\observNoise}{q}\n",
    "\\newcommand{\\ObservNoise}{\\boldq}\n",
    "\\newcommand{\\ObservNoiseCov}{Q}\n",
    "\\newcommand{\\ObservNoiseCovHistory}{\\boldQ}\n",
    "\\newcommand{\\Jacobian}{\\boldJ}\n",
    "\\newcommand{\\Kalman}{K}\n",
    "\\newcommand{\\kalman}{\\boldk}\n",
    "\\newcommand{\\CC}{\\mathbb{C}}\n",
    "\\newcommand{\\NN}{\\mathbb{N}}\n",
    "\\newcommand{\\RR}{\\mathbb{R}}\n",
    "\\newcommand{\\XX}{\\mathbb{X}}\n",
    "\\newcommand{\\ZZ}{\\mathbb{Z}}\n",
    "\\renewcommand{\\AA}{\\mathbb{A}}\n",
    "\\newcommand{\\boldzero}{\\boldsymbol{0}}\n",
    "\\newcommand{\\boldone}{\\boldsymbol{1}}\n",
    "\\newcommand{\\bolda}{\\boldsymbol{a}}\n",
    "\\newcommand{\\boldb}{\\boldsymbol{b}}\n",
    "\\newcommand{\\boldc}{\\boldsymbol{c}}\n",
    "\\newcommand{\\boldd}{\\boldsymbol{d}}\n",
    "\\newcommand{\\bolde}{\\boldsymbol{e}}\n",
    "\\newcommand{\\boldf}{\\boldsymbol{f}}\n",
    "\\newcommand{\\boldg}{\\boldsymbol{g}}\n",
    "\\newcommand{\\boldh}{\\boldsymbol{h}}\n",
    "\\newcommand{\\boldi}{\\boldsymbol{i}}\n",
    "\\newcommand{\\boldj}{\\boldsymbol{j}}\n",
    "\\newcommand{\\boldk}{\\boldsymbol{k}}\n",
    "\\newcommand{\\boldl}{\\boldsymbol{l}}\n",
    "\\newcommand{\\boldm}{\\boldsymbol{m}}\n",
    "\\newcommand{\\boldn}{\\boldsymbol{n}}\n",
    "\\newcommand{\\boldo}{\\boldsymbol{o}}\n",
    "\\newcommand{\\boldp}{\\boldsymbol{p}}\n",
    "\\newcommand{\\boldq}{\\boldsymbol{q}}\n",
    "\\newcommand{\\boldr}{\\boldsymbol{r}}\n",
    "\\newcommand{\\bolds}{\\boldsymbol{s}}\n",
    "\\newcommand{\\boldt}{\\boldsymbol{t}}\n",
    "\\newcommand{\\boldu}{\\boldsymbol{u}}\n",
    "\\newcommand{\\boldv}{\\boldsymbol{v}}\n",
    "\\newcommand{\\boldw}{\\boldsymbol{w}}\n",
    "\\newcommand{\\boldx}{\\boldsymbol{x}}\n",
    "\\newcommand{\\boldy}{\\boldsymbol{y}}\n",
    "\\newcommand{\\boldz}{\\boldsymbol{z}}\n",
    "\\newcommand{\\boldA}{\\boldsymbol{A}}\n",
    "\\newcommand{\\boldB}{\\boldsymbol{B}}\n",
    "\\newcommand{\\boldC}{\\boldsymbol{C}}\n",
    "\\newcommand{\\boldD}{\\boldsymbol{D}}\n",
    "\\newcommand{\\boldE}{\\boldsymbol{E}}\n",
    "\\newcommand{\\boldF}{\\boldsymbol{F}}\n",
    "\\newcommand{\\boldH}{\\boldsymbol{H}}\n",
    "\\newcommand{\\boldJ}{\\boldsymbol{J}}\n",
    "\\newcommand{\\boldK}{\\boldsymbol{K}}\n",
    "\\newcommand{\\boldL}{\\boldsymbol{L}}\n",
    "\\newcommand{\\boldM}{\\boldsymbol{M}}\n",
    "\\newcommand{\\boldI}{\\boldsymbol{I}}\n",
    "\\newcommand{\\boldP}{\\boldsymbol{P}}\n",
    "\\newcommand{\\boldQ}{\\boldsymbol{Q}}\n",
    "\\newcommand{\\boldR}{\\boldsymbol{R}}\n",
    "\\newcommand{\\boldS}{\\boldsymbol{S}}\n",
    "\\newcommand{\\boldT}{\\boldsymbol{T}}\n",
    "\\newcommand{\\boldO}{\\boldsymbol{O}}\n",
    "\\newcommand{\\boldU}{\\boldsymbol{U}}\n",
    "\\newcommand{\\boldV}{\\boldsymbol{V}}\n",
    "\\newcommand{\\boldW}{\\boldsymbol{W}}\n",
    "\\newcommand{\\boldX}{\\boldsymbol{X}}\n",
    "\\newcommand{\\boldY}{\\boldsymbol{Y}}\n",
    "\\newcommand{\\boldZ}{\\boldsymbol{Z}}\n",
    "\\newcommand{\\boldXY}{\\boldsymbol{XY}}\n",
    "\\newcommand{\\boldmu}{\\boldsymbol{\\mu}}$"
   ]
  },
  {
   "cell_type": "code",
   "execution_count": 1,
   "metadata": {},
   "outputs": [],
   "source": [
    "import numpy as np\n",
    "from matplotlib import pyplot as plt\n",
    "from matplotlib.patches import Ellipse, Rectangle\n",
    "from IPython import display\n",
    "import time\n",
    "from matplotlib.lines import Line2D\n",
    "%matplotlib inline"
   ]
  },
  {
   "cell_type": "markdown",
   "metadata": {},
   "source": [
    "## 1. Class `Timestamp`\n",
    "Represents time with nanosecond-level accuracy. It also supports:\n",
    "* arithmetic operations\n",
    "* casting to seconds and milliseconds\n",
    "* initialization from seconds, milliseconds etc via static methods\n",
    "\n",
    "Examples:"
   ]
  },
  {
   "cell_type": "code",
   "execution_count": 2,
   "metadata": {},
   "outputs": [
    {
     "output_type": "stream",
     "name": "stdout",
     "text": "t1 = Time(sec=1,nsec=12333)\nt2 = Time(sec=5,nsec=33149)\nt1 + t2 = Time(sec=6,nsec=45482)\nt2 - t1 = Time(sec=4,nsec=20816)\nt1.to_seconds() = 1.000012333s\nt1.to_milliseconds() = 1000.0123329999999ms\nt1.to_microseconds() = 1000012.3329999999us\nt1.to_nanoseconds() = 1000012332.9999999ns\n"
    }
   ],
   "source": [
    "from sdc.timestamp import Timestamp\n",
    "\n",
    "t1 = Timestamp(sec=1, nsec=12333)\n",
    "t2 = Timestamp(sec=5, nsec=33149)\n",
    "print('t1 = {}'.format(t1))\n",
    "print('t2 = {}'.format(t2))\n",
    "\n",
    "# Создание\n",
    "print('t1 + t2 = {}'.format(t1 + t2))\n",
    "print('t2 - t1 = {}'.format(t2 - t1))\n",
    "\n",
    "# Преобразования\n",
    "print('t1.to_seconds() = {}s'.format(t1.to_seconds()))\n",
    "print('t1.to_milliseconds() = {}ms'.format(t1.to_milliseconds()))\n",
    "print('t1.to_microseconds() = {}us'.format(t1.to_microseconds()))\n",
    "print('t1.to_nanoseconds() = {}ns'.format(t1.to_nanoseconds()))\n",
    "\n",
    "# Статические методы-фабрики\n",
    "t = Timestamp.seconds(5)\n",
    "t = Timestamp.milliseconds(5)\n",
    "t = Timestamp.microseconds(5)\n",
    "t = Timestamp.nanoseconds(5)"
   ]
  },
  {
   "cell_type": "markdown",
   "metadata": {},
   "source": [
    "## 2. Real car model and its parameters"
   ]
  },
  {
   "cell_type": "markdown",
   "metadata": {},
   "source": [
    "Classes in this section form a kind of \"simulator\" for real car and real sensors behavior. We will use this classes for generation of ground truth data for localization and sensor observations."
   ]
  },
  {
   "cell_type": "markdown",
   "metadata": {},
   "source": [
    "### Class `Car`\n",
    "Represents real car model"
   ]
  },
  {
   "cell_type": "code",
   "execution_count": 3,
   "metadata": {},
   "outputs": [
    {
     "output_type": "stream",
     "name": "stdout",
     "text": "Current state of car and time:\nCar(x=1.00[m], y=2.00[m], yaw=0.00[rad], v=5.00[m/s], omega=0.00[rad/s], t=Time(sec=0,nsec=0))\n\nAccessing real car state via properties:\ncar.x     = 1.0[m]\ncar.y     = 2.0[m]\ncar.yaw   = 0.0[rad]\ncar.v     = 5.0[m/s]\ncar.omega = 0.0[rad/s]\n"
    }
   ],
   "source": [
    "from sdc.car import Car\n",
    "\n",
    "initial_position = [1., 2.]\n",
    "initial_velocity = 5.\n",
    "initial_yaw = 0.\n",
    "initial_omega = 0.\n",
    "car = Car(initial_position=initial_position, initial_velocity=initial_velocity, initial_yaw=initial_yaw)\n",
    "\n",
    "print(\"Current state of car and time:\")\n",
    "print(car) \n",
    "\n",
    "print('\\nAccessing real car state via properties:')\n",
    "print('car.x     = {}[m]'.format(car._position_x))\n",
    "print('car.y     = {}[m]'.format(car._position_y))\n",
    "print('car.yaw   = {}[rad]'.format(car._yaw))\n",
    "print('car.v     = {}[m/s]'.format(car._velocity))\n",
    "print('car.omega = {}[rad/s]'.format(car._omega))"
   ]
  },
  {
   "cell_type": "markdown",
   "metadata": {},
   "source": [
    "### Movement trajectory (classes `MovementModelBase`, `LinearMovementModel` and `CycloidMovementModel`)\n",
    "Represent real trajectory of a car. Have method `_move(car, time_interval)` which \"moves\" the car and canges its state and time. This method is called inside `car.move(time_interval)` method.\n",
    "\n",
    "* `LinearMovementModel` - movement model with  constant velocity\n",
    "* `CycloidMovementModel`- movement model with cycloid trajectory"
   ]
  },
  {
   "cell_type": "code",
   "execution_count": 4,
   "metadata": {},
   "outputs": [],
   "source": [
    "from sdc.linear_movement_model import LinearMovementModel\n",
    "from sdc.cycloid_movement_model import CycloidMovementModel\n",
    "\n",
    "# let's add movement model to our car model\n",
    "movement_model = LinearMovementModel()\n",
    "car.set_movement_model(movement_model)"
   ]
  },
  {
   "cell_type": "code",
   "execution_count": 5,
   "metadata": {},
   "outputs": [
    {
     "output_type": "stream",
     "name": "stdout",
     "text": "Initial state\n Car(x=1.00[m], y=2.00[m], yaw=0.00[rad], v=5.00[m/s], omega=0.00[rad/s], t=Time(sec=0,nsec=0))\nNew state\n Car(x=6.00[m], y=2.00[m], yaw=0.00[rad], v=5.00[m/s], omega=0.00[rad/s], t=Time(sec=1,nsec=0))\n"
    }
   ],
   "source": [
    "# Now we can move our car\n",
    "print(\"Initial state\\n\", car)\n",
    "dt = Timestamp.seconds(1)\n",
    "car.move(dt)\n",
    "print(\"New state\\n\", car)"
   ]
  },
  {
   "cell_type": "markdown",
   "metadata": {},
   "source": [
    "### Car sensors (classes `CarSensorBase`, `CanSensor`, `GpsSensor`, `ImuSensor`)\n",
    "Return paramenters of car with some level of noise.\n",
    "* `GpsSensor` returns $(x, y)$;\n",
    "* `CanSensor` returns car velocity $v$;\n",
    "* `ImuSensor` returns angular velocity $\\omega$. Should be implemented as a part of the homework."
   ]
  },
  {
   "cell_type": "code",
   "execution_count": 6,
   "metadata": {},
   "outputs": [
    {
     "output_type": "stream",
     "name": "stdout",
     "text": "List of car sensors\n [<sdc.gps_sensor.GpsSensor object at 0x1125a7e10>, <sdc.can_sensor.CanSensor object at 0x1125a7e50>]\n"
    }
   ],
   "source": [
    "from sdc.can_sensor import CanSensor\n",
    "from sdc.gps_sensor import GpsSensor\n",
    "from sdc.imu_sensor import ImuSensor\n",
    "\n",
    "gps_noise = [25, 25]  # std deviation == 5 meters\n",
    "gps_sensor = GpsSensor(gps_noise, random_state=0)\n",
    "\n",
    "can_noise = [0.25]  # std deviation == 0.5 m/s for velocity observations\n",
    "can_sensor = CanSensor(can_noise, random_state=1)\n",
    "\n",
    "# Adding sensors to car\n",
    "car.add_sensor(gps_sensor)\n",
    "car.add_sensor(can_sensor)\n",
    "\n",
    "print(\"List of car sensors\\n\", car.sensors)"
   ]
  },
  {
   "cell_type": "markdown",
   "metadata": {},
   "source": [
    "**Let's check sensor observations:**"
   ]
  },
  {
   "cell_type": "code",
   "execution_count": 7,
   "metadata": {},
   "outputs": [
    {
     "output_type": "stream",
     "name": "stdout",
     "text": "Car(x=6.00[m], y=2.00[m], yaw=0.00[rad], v=5.00[m/s], omega=0.00[rad/s], t=Time(sec=1,nsec=0))\nGPS observation = [14.82026173  4.00078604]\nCAN observation = [5.81217268]\n"
    }
   ],
   "source": [
    "print(car)\n",
    "\n",
    "# Sensor observations (only after adding sensors to car)\n",
    "gps_observation = gps_sensor.observe()\n",
    "print('GPS observation = {}'.format(gps_observation))\n",
    "\n",
    "can_observation = can_sensor.observe()\n",
    "print('CAN observation = {}'.format(can_observation))"
   ]
  },
  {
   "cell_type": "markdown",
   "metadata": {},
   "source": [
    "**Car movement and sensors:**"
   ]
  },
  {
   "cell_type": "code",
   "execution_count": 8,
   "metadata": {
    "scrolled": true
   },
   "outputs": [
    {
     "output_type": "stream",
     "name": "stdout",
     "text": "Initial car state:  Car(x=2.00[m], y=3.00[m], yaw=0.00[rad], v=10.00[m/s], omega=0.10[rad/s], t=Time(sec=0,nsec=0))\ndt = Time(sec=1,nsec=0)\n\nCurrent real car state: Car(x=12.00[m], y=3.00[m], yaw=0.10[rad], v=10.00[m/s], omega=0.10[rad/s], t=Time(sec=1,nsec=0))\nGPS observation = [13.62434536  2.38824359]\nCAN observation = [9.79162108]\n\nCurrent real car state: Car(x=21.95[m], y=4.00[m], yaw=0.20[rad], v=10.00[m/s], omega=0.10[rad/s], t=Time(sec=2,nsec=0))\nGPS observation = [21.4218699   2.92536554]\nCAN observation = [9.97186659]\n\nCurrent real car state: Car(x=31.75[m], y=5.99[m], yaw=0.30[rad], v=10.00[m/s], omega=0.10[rad/s], t=Time(sec=3,nsec=0))\nGPS observation = [32.61611506  3.68348878]\nCAN observation = [8.93190195]\n\nCurrent real car state: Car(x=41.30[m], y=8.94[m], yaw=0.40[rad], v=10.00[m/s], omega=0.10[rad/s], t=Time(sec=4,nsec=0))\nGPS observation = [43.04888409  8.17902264]\nCAN observation = [10.8201354]\n\nCurrent real car state: Car(x=50.51[m], y=12.83[m], yaw=0.50[rad], v=10.00[m/s], omega=0.10[rad/s], t=Time(sec=5,nsec=0))\nGPS observation = [50.83372136 12.58504259]\nCAN observation = [9.10328221]\n\nCurrent real car state: Car(x=59.29[m], y=17.63[m], yaw=0.60[rad], v=10.00[m/s], omega=0.10[rad/s], t=Time(sec=6,nsec=0))\nGPS observation = [60.75261582 15.56852764]\nCAN observation = [9.57912632]\n\nCurrent real car state: Car(x=67.54[m], y=23.28[m], yaw=0.70[rad], v=10.00[m/s], omega=0.10[rad/s], t=Time(sec=7,nsec=0))\nGPS observation = [67.22144683 22.89103873]\nCAN observation = [10.25144071]\n\nCurrent real car state: Car(x=75.19[m], y=29.72[m], yaw=0.80[rad], v=10.00[m/s], omega=0.10[rad/s], t=Time(sec=8,nsec=0))\nGPS observation = [76.32605535 28.61737869]\nCAN observation = [9.37735596]\n\nCurrent real car state: Car(x=82.16[m], y=36.89[m], yaw=0.90[rad], v=10.00[m/s], omega=0.10[rad/s], t=Time(sec=9,nsec=0))\nGPS observation = [81.98692479 36.01297245]\nCAN observation = [9.47102389]\n\nCurrent real car state: Car(x=88.38[m], y=44.72[m], yaw=1.00[rad], v=10.00[m/s], omega=0.10[rad/s], t=Time(sec=10,nsec=0))\nGPS observation = [88.41766643 45.30691518]\nCAN observation = [9.54549619]\n\n"
    }
   ],
   "source": [
    "# 1. car model initialization\n",
    "initial_position = [2, 3]\n",
    "initial_velocity = 10\n",
    "initial_yaw = 0\n",
    "initial_omega = 0.1\n",
    "car = Car(initial_position=initial_position, initial_yaw=initial_yaw,\n",
    "          initial_velocity=initial_velocity, initial_omega=initial_omega)\n",
    "print(\"Initial car state: \", car)\n",
    "\n",
    "assert car._position_x == 2\n",
    "assert car._position_y == 3\n",
    "assert car._yaw == initial_yaw\n",
    "assert car._velocity == initial_velocity\n",
    "assert car._omega == initial_omega\n",
    "assert car._time == Timestamp.seconds(0)\n",
    "\n",
    "# 2. car movement model initialization\n",
    "movement_model = LinearMovementModel()\n",
    "car.set_movement_model(movement_model)\n",
    "\n",
    "# 3. adding sensors\n",
    "gps_sensor = GpsSensor(noise_variances=[1, 1], random_state=1)\n",
    "can_sensor = CanSensor(noise_variances=[0.25], random_state=2)\n",
    "car.add_sensor(gps_sensor)\n",
    "car.add_sensor(can_sensor)\n",
    "\n",
    "# 4. move time step\n",
    "dt = Timestamp.seconds(1)\n",
    "print('dt = {}'.format(dt))\n",
    "\n",
    "# 5. move duration\n",
    "duration = Timestamp.seconds(10)\n",
    "final_time = car.time + duration\n",
    "print('')\n",
    "while car.time < final_time:\n",
    "    car.move(dt)\n",
    "    # sensor observations at time t + dt\n",
    "    gps_observation = car.gps_sensor.observe()\n",
    "    can_observation = car.can_sensor.observe()\n",
    "    print(\"Current real car state:\", car)\n",
    "    print('GPS observation = {}'.format(gps_observation))\n",
    "    print('CAN observation = {}'.format(can_observation))\n",
    "    print('')\n",
    "\n",
    "assert car._time == Timestamp.seconds(10)"
   ]
  },
  {
   "cell_type": "markdown",
   "metadata": {},
   "source": [
    "**Check `funciton sdc.util.create_car`**"
   ]
  },
  {
   "cell_type": "code",
   "execution_count": 9,
   "metadata": {},
   "outputs": [
    {
     "output_type": "stream",
     "name": "stdout",
     "text": "Car(x=5.00[m], y=3.00[m], yaw=1.00[rad], v=2.00[m/s], omega=3.00[rad/s], t=Time(sec=0,nsec=0))\n"
    }
   ],
   "source": [
    "from sdc.util import create_car\n",
    "\n",
    "car = create_car(initial_position=[5,3], initial_velocity=2, initial_omega=3, initial_yaw=1, \n",
    "                 can_noise_variances=[2], gps_noise_variances=[1,1], random_state=0, \n",
    "                 imu_noise_variances=None)\n",
    "print (car)"
   ]
  },
  {
   "cell_type": "markdown",
   "metadata": {},
   "source": [
    "## 3. Kalman car model of its parameters"
   ]
  },
  {
   "cell_type": "markdown",
   "metadata": {},
   "source": [
    "Classes in this section represent the same entities as in the previous section, but they use kalman model to recover ground truth localization basing on sensor observations."
   ]
  },
  {
   "cell_type": "markdown",
   "metadata": {},
   "source": [
    "### Class `KalmanCar`\n",
    "Kalman analog for `Car` class. \n",
    "  * `state` and `covariance_matrix` fields represent current values of $\\mu(t)$ and $\\Sigma(t)$\n",
    "  * Has a set of kalman models for sensors each of which knows its observation matrix $C$, noise matrix $Q$.\n",
    "  * Each kalman model for sensor can handle real data observations via `process_observation()` method\n",
    "  * `KalmanCar` has kalman model for movement (`KalmanMovementModel`) which defines how parameters change through time.\n",
    "  \n",
    "**Warning:** we use the same number of hidden variables in both `Car` and `KalmanCar`. This is a coincidence, normally a real model depends on thousands of parameters while kalman model depends on a small amount."
   ]
  },
  {
   "cell_type": "code",
   "execution_count": 10,
   "metadata": {},
   "outputs": [
    {
     "output_type": "stream",
     "name": "stdout",
     "text": "KalmanCar(x=5.00[m], y=3.00[m], yaw=1.00[rad], v=2.00[m/s], omega=3.00[rad/s], t=Time(sec=0,nsec=0))\n\nInitial kalman state:\n[5. 3. 1. 2. 3.]\n\nInitial kalman covariance matrix:\n[[100.   0.   0.   0.   0.]\n [  0. 100.   0.   0.   0.]\n [  0.   0. 100.   0.   0.]\n [  0.   0.   0. 100.   0.]\n [  0.   0.   0.   0. 100.]]\n"
    }
   ],
   "source": [
    "from sdc.kalman_car import KalmanCar\n",
    "\n",
    "# model initialization\n",
    "kalman_car = KalmanCar(\n",
    "    initial_position=car.initial_position,   # we took initial parameters from real parameters of car\n",
    "    initial_yaw=car.initial_yaw,\n",
    "    initial_velocity=car.initial_velocity,\n",
    "    initial_omega=car.initial_omega)\n",
    "print(kalman_car)\n",
    "print('\\nInitial kalman state:\\n{}\\n'.format(kalman_car.state))\n",
    "print('Initial kalman covariance matrix:\\n{}'.format(kalman_car.covariance_matrix))"
   ]
  },
  {
   "cell_type": "markdown",
   "metadata": {},
   "source": [
    "### Kalman model for sensors (`KalmanCanSensor`, `KalmanGpsSensor`, `KalmanImuSensor`)"
   ]
  },
  {
   "cell_type": "code",
   "execution_count": 11,
   "metadata": {},
   "outputs": [
    {
     "output_type": "stream",
     "name": "stdout",
     "text": "GPS kalman sensor data:\nQ_gps =\n[[1 0]\n [0 1]]\nC_gps =\n[[1. 0. 0. 0. 0.]\n [0. 1. 0. 0. 0.]]\n\nCAN kalman sensor data:\nQ_can =\n[[2]]\nC_can =\n[[0. 0. 0. 1. 0.]]\n\n"
    }
   ],
   "source": [
    "from sdc.kalman_can_sensor import KalmanCanSensor\n",
    "from sdc.kalman_gps_sensor import KalmanGpsSensor\n",
    "from sdc.kalman_imu_sensor import KalmanImuSensor\n",
    "\n",
    "expected_gps_noise = car.gps_sensor._noise_variances\n",
    "kalman_gps_sensor = KalmanGpsSensor(noise_variances=expected_gps_noise)\n",
    "\n",
    "expected_can_noise = car.can_sensor._noise_variances\n",
    "kalman_can_sensor = KalmanCanSensor(noise_variances=expected_can_noise)\n",
    "\n",
    "kalman_car.add_sensor(kalman_gps_sensor)\n",
    "kalman_car.add_sensor(kalman_can_sensor)\n",
    "\n",
    "print('GPS kalman sensor data:')\n",
    "print('Q_gps =\\n{}'.format(kalman_car.gps_sensor.get_noise_covariance()))\n",
    "print('C_gps =\\n{}\\n'.format(kalman_car.gps_sensor.get_observation_matrix()))\n",
    "\n",
    "print('CAN kalman sensor data:')\n",
    "print('Q_can =\\n{}'.format(kalman_car.can_sensor.get_noise_covariance()))\n",
    "print('C_can =\\n{}\\n'.format(kalman_car.can_sensor.get_observation_matrix()))"
   ]
  },
  {
   "cell_type": "markdown",
   "metadata": {},
   "source": [
    "**Check `funciton sdc.util.create_kalman_car` that creates kalman model for real car model**"
   ]
  },
  {
   "cell_type": "code",
   "execution_count": 13,
   "metadata": {},
   "outputs": [
    {
     "output_type": "stream",
     "name": "stdout",
     "text": "Car(x=5.00[m], y=3.00[m], yaw=1.00[rad], v=2.00[m/s], omega=3.00[rad/s], t=Time(sec=0,nsec=0))\nKalmanCar(x=5.00[m], y=3.00[m], yaw=1.00[rad], v=2.00[m/s], omega=3.00[rad/s], t=Time(sec=0,nsec=0))\n"
    }
   ],
   "source": [
    "from sdc.util import create_kalman_car\n",
    "# we will use actual parameters for variances in kalman model\n",
    "kalman_car = create_kalman_car(car, gps_variances=None, can_variances=None, imu_variances=None)\n",
    "\n",
    "print (car)\n",
    "print (kalman_car)"
   ]
  },
  {
   "cell_type": "markdown",
   "metadata": {},
   "source": [
    "### Methods for kalman filters (`sdc/kalman_filter.py`)\n",
    "* `kalman_transit_covariance(S, A, R)` - returns new covariance matrix on prediction step:\n",
    "    * `S` - covariance matrix from the previous time stamp\n",
    "    * `A` - transition matrix (or Jacobian matrix `J` in case of EKF)\n",
    "    * `R` - noise covariance matrix.\n",
    "* `kalman_process_observation(mu, S, observation, C, Q)` - returns new state with covariance matrix\n",
    "   * `mu` - current estimation of state\n",
    "   * `S` - current estimation of covariance matrix\n",
    "   * `observation` - vector of observation\n",
    "   * `C` - observation matrix\n",
    "   * `Q` - covariance matrix of noise in observation\n",
    "   \n",
    "These two methods should be implemented as a part of homework. `KalmanCar` won't work until these methods are implemented."
   ]
  },
  {
   "cell_type": "markdown",
   "metadata": {},
   "source": [
    "```\n",
    "def kalman_transit_covariance(S, A, R):\n",
    "    assert False, 'Not implemented'\n",
    "\n",
    "def kalman_process_observation(mu, S, observation, C, Q):\n",
    "    assert False, 'Not implemented'\n",
    "```"
   ]
  },
  {
   "cell_type": "markdown",
   "metadata": {},
   "source": [
    "## 4. Visualization (class CarPlotter)"
   ]
  },
  {
   "cell_type": "code",
   "execution_count": 14,
   "metadata": {},
   "outputs": [],
   "source": [
    "from sdc.visualization import CarPlotter"
   ]
  },
  {
   "cell_type": "markdown",
   "metadata": {},
   "source": [
    "### Car trajectory visualiztion"
   ]
  },
  {
   "cell_type": "code",
   "execution_count": 15,
   "metadata": {
    "scrolled": true
   },
   "outputs": [
    {
     "output_type": "stream",
     "name": "stdout",
     "text": "Car(x=20.00[m], y=20.00[m], yaw=0.50[rad], v=10.00[m/s], omega=0.02[rad/s], t=Time(sec=0,nsec=0))\nCar(x=262.64[m], y=325.76[m], yaw=1.30[rad], v=10.00[m/s], omega=0.02[rad/s], t=Time(sec=40,nsec=99999986))\n"
    },
    {
     "output_type": "display_data",
     "data": {
      "text/plain": "<Figure size 1080x1080 with 1 Axes>",
      "image/svg+xml": "<?xml version=\"1.0\" encoding=\"utf-8\" standalone=\"no\"?>\n<!DOCTYPE svg PUBLIC \"-//W3C//DTD SVG 1.1//EN\"\n  \"http://www.w3.org/Graphics/SVG/1.1/DTD/svg11.dtd\">\n<!-- Created with matplotlib (https://matplotlib.org/) -->\n<svg height=\"846.478125pt\" version=\"1.1\" viewBox=\"0 0 693.4077 846.478125\" width=\"693.4077pt\" xmlns=\"http://www.w3.org/2000/svg\" xmlns:xlink=\"http://www.w3.org/1999/xlink\">\n <defs>\n  <style type=\"text/css\">\n*{stroke-linecap:butt;stroke-linejoin:round;}\n  </style>\n </defs>\n <g id=\"figure_1\">\n  <g id=\"patch_1\">\n   <path d=\"M 0 846.478125 \nL 693.4077 846.478125 \nL 693.4077 -0 \nL 0 -0 \nz\n\" style=\"fill:none;\"/>\n  </g>\n  <g id=\"axes_1\">\n   <g id=\"patch_2\">\n    <path d=\"M 33.2875 822.6 \nL 686.2077 822.6 \nL 686.2077 7.2 \nL 33.2875 7.2 \nz\n\" style=\"fill:#ffffff;\"/>\n   </g>\n   <g id=\"PathCollection_1\">\n    <defs>\n     <path d=\"M 0 3 \nC 0.795609 3 1.55874 2.683901 2.12132 2.12132 \nC 2.683901 1.55874 3 0.795609 3 0 \nC 3 -0.795609 2.683901 -1.55874 2.12132 -2.12132 \nC 1.55874 -2.683901 0.795609 -3 0 -3 \nC -0.795609 -3 -1.55874 -2.683901 -2.12132 -2.12132 \nC -2.683901 -1.55874 -3 -0.795609 -3 0 \nC -3 0.795609 -2.683901 1.55874 -2.12132 2.12132 \nC -1.55874 2.683901 -0.795609 3 0 3 \nz\n\" id=\"mc33846bb9b\" style=\"stroke:#000000;\"/>\n    </defs>\n    <g clip-path=\"url(#pc66310f625)\">\n     <use style=\"fill:#008000;stroke:#000000;\" x=\"660.652288\" xlink:href=\"#mc33846bb9b\" y=\"34.932761\"/>\n    </g>\n   </g>\n   <g id=\"patch_3\">\n    <path clip-path=\"url(#pc66310f625)\" d=\"M 668.254695 7.33408 \nL 668.46302 11.264447 \nL 667.264277 10.934238 \nL 660.653488 34.933092 \nL 660.651088 34.932431 \nL 667.261877 10.933577 \nL 666.063134 10.603368 \nz\n\" style=\"fill:#008000;stroke:#008000;stroke-linejoin:miter;\"/>\n   </g>\n   <g id=\"patch_4\">\n    <path clip-path=\"url(#pc66310f625)\" d=\"M 661.460584 39.028398 \nL 663.44382 31.828742 \nL 659.843992 30.837124 \nL 657.860756 38.03678 \nz\n\" style=\"fill:none;stroke:#000000;stroke-linejoin:miter;\"/>\n   </g>\n   <g id=\"matplotlib.axis_1\">\n    <g id=\"xtick_1\">\n     <g id=\"line2d_1\">\n      <path clip-path=\"url(#pc66310f625)\" d=\"M 131.336529 822.6 \nL 131.336529 7.2 \n\" style=\"fill:none;stroke:#b0b0b0;stroke-dasharray:2.96,1.28;stroke-dashoffset:0;stroke-opacity:0.5;stroke-width:0.8;\"/>\n     </g>\n     <g id=\"line2d_2\">\n      <defs>\n       <path d=\"M 0 0 \nL 0 3.5 \n\" id=\"m375185ee26\" style=\"stroke:#000000;stroke-width:0.8;\"/>\n      </defs>\n      <g>\n       <use style=\"stroke:#000000;stroke-width:0.8;\" x=\"131.336529\" xlink:href=\"#m375185ee26\" y=\"822.6\"/>\n      </g>\n     </g>\n     <g id=\"text_1\">\n      <!-- 50 -->\n      <defs>\n       <path d=\"M 10.796875 72.90625 \nL 49.515625 72.90625 \nL 49.515625 64.59375 \nL 19.828125 64.59375 \nL 19.828125 46.734375 \nQ 21.96875 47.46875 24.109375 47.828125 \nQ 26.265625 48.1875 28.421875 48.1875 \nQ 40.625 48.1875 47.75 41.5 \nQ 54.890625 34.8125 54.890625 23.390625 \nQ 54.890625 11.625 47.5625 5.09375 \nQ 40.234375 -1.421875 26.90625 -1.421875 \nQ 22.3125 -1.421875 17.546875 -0.640625 \nQ 12.796875 0.140625 7.71875 1.703125 \nL 7.71875 11.625 \nQ 12.109375 9.234375 16.796875 8.0625 \nQ 21.484375 6.890625 26.703125 6.890625 \nQ 35.15625 6.890625 40.078125 11.328125 \nQ 45.015625 15.765625 45.015625 23.390625 \nQ 45.015625 31 40.078125 35.4375 \nQ 35.15625 39.890625 26.703125 39.890625 \nQ 22.75 39.890625 18.8125 39.015625 \nQ 14.890625 38.140625 10.796875 36.28125 \nz\n\" id=\"DejaVuSans-53\"/>\n       <path d=\"M 31.78125 66.40625 \nQ 24.171875 66.40625 20.328125 58.90625 \nQ 16.5 51.421875 16.5 36.375 \nQ 16.5 21.390625 20.328125 13.890625 \nQ 24.171875 6.390625 31.78125 6.390625 \nQ 39.453125 6.390625 43.28125 13.890625 \nQ 47.125 21.390625 47.125 36.375 \nQ 47.125 51.421875 43.28125 58.90625 \nQ 39.453125 66.40625 31.78125 66.40625 \nz\nM 31.78125 74.21875 \nQ 44.046875 74.21875 50.515625 64.515625 \nQ 56.984375 54.828125 56.984375 36.375 \nQ 56.984375 17.96875 50.515625 8.265625 \nQ 44.046875 -1.421875 31.78125 -1.421875 \nQ 19.53125 -1.421875 13.0625 8.265625 \nQ 6.59375 17.96875 6.59375 36.375 \nQ 6.59375 54.828125 13.0625 64.515625 \nQ 19.53125 74.21875 31.78125 74.21875 \nz\n\" id=\"DejaVuSans-48\"/>\n      </defs>\n      <g transform=\"translate(124.974029 837.198437)scale(0.1 -0.1)\">\n       <use xlink:href=\"#DejaVuSans-53\"/>\n       <use x=\"63.623047\" xlink:href=\"#DejaVuSans-48\"/>\n      </g>\n     </g>\n    </g>\n    <g id=\"xtick_2\">\n     <g id=\"line2d_3\">\n      <path clip-path=\"url(#pc66310f625)\" d=\"M 255.800127 822.6 \nL 255.800127 7.2 \n\" style=\"fill:none;stroke:#b0b0b0;stroke-dasharray:2.96,1.28;stroke-dashoffset:0;stroke-opacity:0.5;stroke-width:0.8;\"/>\n     </g>\n     <g id=\"line2d_4\">\n      <g>\n       <use style=\"stroke:#000000;stroke-width:0.8;\" x=\"255.800127\" xlink:href=\"#m375185ee26\" y=\"822.6\"/>\n      </g>\n     </g>\n     <g id=\"text_2\">\n      <!-- 100 -->\n      <defs>\n       <path d=\"M 12.40625 8.296875 \nL 28.515625 8.296875 \nL 28.515625 63.921875 \nL 10.984375 60.40625 \nL 10.984375 69.390625 \nL 28.421875 72.90625 \nL 38.28125 72.90625 \nL 38.28125 8.296875 \nL 54.390625 8.296875 \nL 54.390625 0 \nL 12.40625 0 \nz\n\" id=\"DejaVuSans-49\"/>\n      </defs>\n      <g transform=\"translate(246.256377 837.198437)scale(0.1 -0.1)\">\n       <use xlink:href=\"#DejaVuSans-49\"/>\n       <use x=\"63.623047\" xlink:href=\"#DejaVuSans-48\"/>\n       <use x=\"127.246094\" xlink:href=\"#DejaVuSans-48\"/>\n      </g>\n     </g>\n    </g>\n    <g id=\"xtick_3\">\n     <g id=\"line2d_5\">\n      <path clip-path=\"url(#pc66310f625)\" d=\"M 380.263724 822.6 \nL 380.263724 7.2 \n\" style=\"fill:none;stroke:#b0b0b0;stroke-dasharray:2.96,1.28;stroke-dashoffset:0;stroke-opacity:0.5;stroke-width:0.8;\"/>\n     </g>\n     <g id=\"line2d_6\">\n      <g>\n       <use style=\"stroke:#000000;stroke-width:0.8;\" x=\"380.263724\" xlink:href=\"#m375185ee26\" y=\"822.6\"/>\n      </g>\n     </g>\n     <g id=\"text_3\">\n      <!-- 150 -->\n      <g transform=\"translate(370.719974 837.198437)scale(0.1 -0.1)\">\n       <use xlink:href=\"#DejaVuSans-49\"/>\n       <use x=\"63.623047\" xlink:href=\"#DejaVuSans-53\"/>\n       <use x=\"127.246094\" xlink:href=\"#DejaVuSans-48\"/>\n      </g>\n     </g>\n    </g>\n    <g id=\"xtick_4\">\n     <g id=\"line2d_7\">\n      <path clip-path=\"url(#pc66310f625)\" d=\"M 504.727322 822.6 \nL 504.727322 7.2 \n\" style=\"fill:none;stroke:#b0b0b0;stroke-dasharray:2.96,1.28;stroke-dashoffset:0;stroke-opacity:0.5;stroke-width:0.8;\"/>\n     </g>\n     <g id=\"line2d_8\">\n      <g>\n       <use style=\"stroke:#000000;stroke-width:0.8;\" x=\"504.727322\" xlink:href=\"#m375185ee26\" y=\"822.6\"/>\n      </g>\n     </g>\n     <g id=\"text_4\">\n      <!-- 200 -->\n      <defs>\n       <path d=\"M 19.1875 8.296875 \nL 53.609375 8.296875 \nL 53.609375 0 \nL 7.328125 0 \nL 7.328125 8.296875 \nQ 12.9375 14.109375 22.625 23.890625 \nQ 32.328125 33.6875 34.8125 36.53125 \nQ 39.546875 41.84375 41.421875 45.53125 \nQ 43.3125 49.21875 43.3125 52.78125 \nQ 43.3125 58.59375 39.234375 62.25 \nQ 35.15625 65.921875 28.609375 65.921875 \nQ 23.96875 65.921875 18.8125 64.3125 \nQ 13.671875 62.703125 7.8125 59.421875 \nL 7.8125 69.390625 \nQ 13.765625 71.78125 18.9375 73 \nQ 24.125 74.21875 28.421875 74.21875 \nQ 39.75 74.21875 46.484375 68.546875 \nQ 53.21875 62.890625 53.21875 53.421875 \nQ 53.21875 48.921875 51.53125 44.890625 \nQ 49.859375 40.875 45.40625 35.40625 \nQ 44.1875 33.984375 37.640625 27.21875 \nQ 31.109375 20.453125 19.1875 8.296875 \nz\n\" id=\"DejaVuSans-50\"/>\n      </defs>\n      <g transform=\"translate(495.183572 837.198437)scale(0.1 -0.1)\">\n       <use xlink:href=\"#DejaVuSans-50\"/>\n       <use x=\"63.623047\" xlink:href=\"#DejaVuSans-48\"/>\n       <use x=\"127.246094\" xlink:href=\"#DejaVuSans-48\"/>\n      </g>\n     </g>\n    </g>\n    <g id=\"xtick_5\">\n     <g id=\"line2d_9\">\n      <path clip-path=\"url(#pc66310f625)\" d=\"M 629.190919 822.6 \nL 629.190919 7.2 \n\" style=\"fill:none;stroke:#b0b0b0;stroke-dasharray:2.96,1.28;stroke-dashoffset:0;stroke-opacity:0.5;stroke-width:0.8;\"/>\n     </g>\n     <g id=\"line2d_10\">\n      <g>\n       <use style=\"stroke:#000000;stroke-width:0.8;\" x=\"629.190919\" xlink:href=\"#m375185ee26\" y=\"822.6\"/>\n      </g>\n     </g>\n     <g id=\"text_5\">\n      <!-- 250 -->\n      <g transform=\"translate(619.647169 837.198437)scale(0.1 -0.1)\">\n       <use xlink:href=\"#DejaVuSans-50\"/>\n       <use x=\"63.623047\" xlink:href=\"#DejaVuSans-53\"/>\n       <use x=\"127.246094\" xlink:href=\"#DejaVuSans-48\"/>\n      </g>\n     </g>\n    </g>\n   </g>\n   <g id=\"matplotlib.axis_2\">\n    <g id=\"ytick_1\">\n     <g id=\"line2d_11\">\n      <path clip-path=\"url(#pc66310f625)\" d=\"M 33.2875 721.382501 \nL 686.2077 721.382501 \n\" style=\"fill:none;stroke:#b0b0b0;stroke-dasharray:2.96,1.28;stroke-dashoffset:0;stroke-opacity:0.5;stroke-width:0.8;\"/>\n     </g>\n     <g id=\"line2d_12\">\n      <defs>\n       <path d=\"M 0 0 \nL -3.5 0 \n\" id=\"mb7b7cf443b\" style=\"stroke:#000000;stroke-width:0.8;\"/>\n      </defs>\n      <g>\n       <use style=\"stroke:#000000;stroke-width:0.8;\" x=\"33.2875\" xlink:href=\"#mb7b7cf443b\" y=\"721.382501\"/>\n      </g>\n     </g>\n     <g id=\"text_6\">\n      <!-- 50 -->\n      <g transform=\"translate(13.5625 725.18172)scale(0.1 -0.1)\">\n       <use xlink:href=\"#DejaVuSans-53\"/>\n       <use x=\"63.623047\" xlink:href=\"#DejaVuSans-48\"/>\n      </g>\n     </g>\n    </g>\n    <g id=\"ytick_2\">\n     <g id=\"line2d_13\">\n      <path clip-path=\"url(#pc66310f625)\" d=\"M 33.2875 596.918903 \nL 686.2077 596.918903 \n\" style=\"fill:none;stroke:#b0b0b0;stroke-dasharray:2.96,1.28;stroke-dashoffset:0;stroke-opacity:0.5;stroke-width:0.8;\"/>\n     </g>\n     <g id=\"line2d_14\">\n      <g>\n       <use style=\"stroke:#000000;stroke-width:0.8;\" x=\"33.2875\" xlink:href=\"#mb7b7cf443b\" y=\"596.918903\"/>\n      </g>\n     </g>\n     <g id=\"text_7\">\n      <!-- 100 -->\n      <g transform=\"translate(7.2 600.718122)scale(0.1 -0.1)\">\n       <use xlink:href=\"#DejaVuSans-49\"/>\n       <use x=\"63.623047\" xlink:href=\"#DejaVuSans-48\"/>\n       <use x=\"127.246094\" xlink:href=\"#DejaVuSans-48\"/>\n      </g>\n     </g>\n    </g>\n    <g id=\"ytick_3\">\n     <g id=\"line2d_15\">\n      <path clip-path=\"url(#pc66310f625)\" d=\"M 33.2875 472.455306 \nL 686.2077 472.455306 \n\" style=\"fill:none;stroke:#b0b0b0;stroke-dasharray:2.96,1.28;stroke-dashoffset:0;stroke-opacity:0.5;stroke-width:0.8;\"/>\n     </g>\n     <g id=\"line2d_16\">\n      <g>\n       <use style=\"stroke:#000000;stroke-width:0.8;\" x=\"33.2875\" xlink:href=\"#mb7b7cf443b\" y=\"472.455306\"/>\n      </g>\n     </g>\n     <g id=\"text_8\">\n      <!-- 150 -->\n      <g transform=\"translate(7.2 476.254525)scale(0.1 -0.1)\">\n       <use xlink:href=\"#DejaVuSans-49\"/>\n       <use x=\"63.623047\" xlink:href=\"#DejaVuSans-53\"/>\n       <use x=\"127.246094\" xlink:href=\"#DejaVuSans-48\"/>\n      </g>\n     </g>\n    </g>\n    <g id=\"ytick_4\">\n     <g id=\"line2d_17\">\n      <path clip-path=\"url(#pc66310f625)\" d=\"M 33.2875 347.991709 \nL 686.2077 347.991709 \n\" style=\"fill:none;stroke:#b0b0b0;stroke-dasharray:2.96,1.28;stroke-dashoffset:0;stroke-opacity:0.5;stroke-width:0.8;\"/>\n     </g>\n     <g id=\"line2d_18\">\n      <g>\n       <use style=\"stroke:#000000;stroke-width:0.8;\" x=\"33.2875\" xlink:href=\"#mb7b7cf443b\" y=\"347.991709\"/>\n      </g>\n     </g>\n     <g id=\"text_9\">\n      <!-- 200 -->\n      <g transform=\"translate(7.2 351.790927)scale(0.1 -0.1)\">\n       <use xlink:href=\"#DejaVuSans-50\"/>\n       <use x=\"63.623047\" xlink:href=\"#DejaVuSans-48\"/>\n       <use x=\"127.246094\" xlink:href=\"#DejaVuSans-48\"/>\n      </g>\n     </g>\n    </g>\n    <g id=\"ytick_5\">\n     <g id=\"line2d_19\">\n      <path clip-path=\"url(#pc66310f625)\" d=\"M 33.2875 223.528111 \nL 686.2077 223.528111 \n\" style=\"fill:none;stroke:#b0b0b0;stroke-dasharray:2.96,1.28;stroke-dashoffset:0;stroke-opacity:0.5;stroke-width:0.8;\"/>\n     </g>\n     <g id=\"line2d_20\">\n      <g>\n       <use style=\"stroke:#000000;stroke-width:0.8;\" x=\"33.2875\" xlink:href=\"#mb7b7cf443b\" y=\"223.528111\"/>\n      </g>\n     </g>\n     <g id=\"text_10\">\n      <!-- 250 -->\n      <g transform=\"translate(7.2 227.32733)scale(0.1 -0.1)\">\n       <use xlink:href=\"#DejaVuSans-50\"/>\n       <use x=\"63.623047\" xlink:href=\"#DejaVuSans-53\"/>\n       <use x=\"127.246094\" xlink:href=\"#DejaVuSans-48\"/>\n      </g>\n     </g>\n    </g>\n    <g id=\"ytick_6\">\n     <g id=\"line2d_21\">\n      <path clip-path=\"url(#pc66310f625)\" d=\"M 33.2875 99.064514 \nL 686.2077 99.064514 \n\" style=\"fill:none;stroke:#b0b0b0;stroke-dasharray:2.96,1.28;stroke-dashoffset:0;stroke-opacity:0.5;stroke-width:0.8;\"/>\n     </g>\n     <g id=\"line2d_22\">\n      <g>\n       <use style=\"stroke:#000000;stroke-width:0.8;\" x=\"33.2875\" xlink:href=\"#mb7b7cf443b\" y=\"99.064514\"/>\n      </g>\n     </g>\n     <g id=\"text_11\">\n      <!-- 300 -->\n      <defs>\n       <path d=\"M 40.578125 39.3125 \nQ 47.65625 37.796875 51.625 33 \nQ 55.609375 28.21875 55.609375 21.1875 \nQ 55.609375 10.40625 48.1875 4.484375 \nQ 40.765625 -1.421875 27.09375 -1.421875 \nQ 22.515625 -1.421875 17.65625 -0.515625 \nQ 12.796875 0.390625 7.625 2.203125 \nL 7.625 11.71875 \nQ 11.71875 9.328125 16.59375 8.109375 \nQ 21.484375 6.890625 26.8125 6.890625 \nQ 36.078125 6.890625 40.9375 10.546875 \nQ 45.796875 14.203125 45.796875 21.1875 \nQ 45.796875 27.640625 41.28125 31.265625 \nQ 36.765625 34.90625 28.71875 34.90625 \nL 20.21875 34.90625 \nL 20.21875 43.015625 \nL 29.109375 43.015625 \nQ 36.375 43.015625 40.234375 45.921875 \nQ 44.09375 48.828125 44.09375 54.296875 \nQ 44.09375 59.90625 40.109375 62.90625 \nQ 36.140625 65.921875 28.71875 65.921875 \nQ 24.65625 65.921875 20.015625 65.03125 \nQ 15.375 64.15625 9.8125 62.3125 \nL 9.8125 71.09375 \nQ 15.4375 72.65625 20.34375 73.4375 \nQ 25.25 74.21875 29.59375 74.21875 \nQ 40.828125 74.21875 47.359375 69.109375 \nQ 53.90625 64.015625 53.90625 55.328125 \nQ 53.90625 49.265625 50.4375 45.09375 \nQ 46.96875 40.921875 40.578125 39.3125 \nz\n\" id=\"DejaVuSans-51\"/>\n      </defs>\n      <g transform=\"translate(7.2 102.863732)scale(0.1 -0.1)\">\n       <use xlink:href=\"#DejaVuSans-51\"/>\n       <use x=\"63.623047\" xlink:href=\"#DejaVuSans-48\"/>\n       <use x=\"127.246094\" xlink:href=\"#DejaVuSans-48\"/>\n      </g>\n     </g>\n    </g>\n   </g>\n   <g id=\"line2d_23\">\n    <path clip-path=\"url(#pc66310f625)\" d=\"M 58.842912 794.867239 \nL 74.067262 786.391297 \nL 89.17146 777.703052 \nL 104.152547 768.804207 \nL 119.007586 759.696505 \nL 133.733665 750.381732 \nL 148.327899 740.861714 \nL 162.787426 731.138315 \nL 177.109414 721.213443 \nL 191.291054 711.089043 \nL 205.329568 700.767098 \nL 219.222203 690.249631 \nL 232.966237 679.538705 \nL 246.558976 668.636419 \nL 259.997756 657.544908 \nL 273.279943 646.266348 \nL 286.402934 634.802949 \nL 299.364156 623.156957 \nL 312.161069 611.330655 \nL 324.791166 599.326361 \nL 337.25197 587.146428 \nL 349.54104 574.793244 \nL 361.655966 562.269228 \nL 373.594375 549.576836 \nL 385.353926 536.718556 \nL 396.932314 523.696908 \nL 408.327271 510.514443 \nL 419.536563 497.173746 \nL 430.557992 483.677432 \nL 441.389399 470.028145 \nL 452.028661 456.228561 \nL 462.473693 442.281385 \nL 472.722446 428.18935 \nL 482.772914 413.955218 \nL 492.623125 399.581779 \nL 502.271149 385.07185 \nL 511.715095 370.428275 \nL 520.953113 355.653924 \nL 529.983391 340.751693 \nL 538.804159 325.724503 \nL 547.41369 310.575298 \nL 555.810295 295.307049 \nL 563.992328 279.922747 \nL 571.958186 264.425408 \nL 579.706308 248.81807 \nL 587.235176 233.103791 \nL 594.543312 217.285651 \nL 601.629286 201.366751 \nL 608.491708 185.35021 \nL 615.129233 169.239168 \nL 621.540561 153.036783 \nL 627.724434 136.74623 \nL 633.679641 120.370702 \nL 639.405015 103.913409 \nL 644.899433 87.377575 \nL 650.161818 70.766443 \nL 655.191139 54.083268 \nL 659.986411 37.331319 \nL 660.652288 34.932761 \nL 660.652288 34.932761 \n\" style=\"fill:none;stroke:#000000;stroke-linecap:square;stroke-width:1.5;\"/>\n   </g>\n   <g id=\"patch_5\">\n    <path d=\"M 33.2875 822.6 \nL 33.2875 7.2 \n\" style=\"fill:none;stroke:#000000;stroke-linecap:square;stroke-linejoin:miter;stroke-width:0.8;\"/>\n   </g>\n   <g id=\"patch_6\">\n    <path d=\"M 686.2077 822.6 \nL 686.2077 7.2 \n\" style=\"fill:none;stroke:#000000;stroke-linecap:square;stroke-linejoin:miter;stroke-width:0.8;\"/>\n   </g>\n   <g id=\"patch_7\">\n    <path d=\"M 33.2875 822.6 \nL 686.2077 822.6 \n\" style=\"fill:none;stroke:#000000;stroke-linecap:square;stroke-linejoin:miter;stroke-width:0.8;\"/>\n   </g>\n   <g id=\"patch_8\">\n    <path d=\"M 33.2875 7.2 \nL 686.2077 7.2 \n\" style=\"fill:none;stroke:#000000;stroke-linecap:square;stroke-linejoin:miter;stroke-width:0.8;\"/>\n   </g>\n  </g>\n </g>\n <defs>\n  <clipPath id=\"pc66310f625\">\n   <rect height=\"815.4\" width=\"652.9202\" x=\"33.2875\" y=\"7.2\"/>\n  </clipPath>\n </defs>\n</svg>\n",
      "image/png": "[encoded data removed]"
     },
     "metadata": {
      "needs_background": "light"
     }
    }
   ],
   "source": [
    "initial_position = [20, 20]\n",
    "initial_velocity = 10\n",
    "initial_yaw = 0.5\n",
    "initial_omega = 0.02\n",
    "\n",
    "car = Car(initial_position=initial_position, initial_velocity=initial_velocity,\n",
    "          initial_yaw=initial_yaw, initial_omega=initial_omega)\n",
    "print(car)\n",
    "\n",
    "movement_model = LinearMovementModel()\n",
    "car.set_movement_model(movement_model)\n",
    "\n",
    "dt = Timestamp.seconds(0.1)\n",
    "duration = Timestamp.seconds(40)\n",
    "final_time = car.time + duration\n",
    "while car.time < final_time:\n",
    "    car.move(dt)\n",
    "print(car)\n",
    "\n",
    "# drawing trajectory\n",
    "fig = plt.figure(figsize=(15, 15))\n",
    "ax = plt.subplot(111, aspect='equal')\n",
    "ax.grid(which='both', linestyle='--', alpha=0.5)\n",
    "\n",
    "car_plotter = CarPlotter(car_width=3, car_length=1.5)\n",
    "car_plotter.plot_car(ax, car)\n",
    "car_plotter.plot_trajectory(ax, car, traj_color='k')\n",
    "\n",
    "# setting appropriate limits\n",
    "x_limits, y_limits = car_plotter.get_limits(car)\n",
    "ax.set_xlim(x_limits)\n",
    "ax.set_ylim(y_limits);"
   ]
  },
  {
   "cell_type": "markdown",
   "metadata": {},
   "source": [
    "### Visualization with GPS and delays"
   ]
  },
  {
   "cell_type": "code",
   "execution_count": 16,
   "metadata": {
    "scrolled": true
   },
   "outputs": [
    {
     "output_type": "display_data",
     "data": {
      "text/plain": "<Figure size 1080x1080 with 1 Axes>",
      "image/svg+xml": "<?xml version=\"1.0\" encoding=\"utf-8\" standalone=\"no\"?>\n<!DOCTYPE svg PUBLIC \"-//W3C//DTD SVG 1.1//EN\"\n  \"http://www.w3.org/Graphics/SVG/1.1/DTD/svg11.dtd\">\n<!-- Created with matplotlib (https://matplotlib.org/) -->\n<svg height=\"846.478125pt\" version=\"1.1\" viewBox=\"0 0 857.904687 846.478125\" width=\"857.904687pt\" xmlns=\"http://www.w3.org/2000/svg\" xmlns:xlink=\"http://www.w3.org/1999/xlink\">\n <defs>\n  <style type=\"text/css\">\n*{stroke-linecap:butt;stroke-linejoin:round;}\n  </style>\n </defs>\n <g id=\"figure_1\">\n  <g id=\"patch_1\">\n   <path d=\"M 0 846.478125 \nL 857.904687 846.478125 \nL 857.904687 -0 \nL 0 -0 \nz\n\" style=\"fill:none;\"/>\n  </g>\n  <g id=\"axes_1\">\n   <g id=\"patch_2\">\n    <path d=\"M 35.304688 822.6 \nL 850.704688 822.6 \nL 850.704688 7.2 \nL 35.304688 7.2 \nz\n\" style=\"fill:#ffffff;\"/>\n   </g>\n   <g id=\"PathCollection_1\">\n    <defs>\n     <path d=\"M 0 3 \nC 0.795609 3 1.55874 2.683901 2.12132 2.12132 \nC 2.683901 1.55874 3 0.795609 3 0 \nC 3 -0.795609 2.683901 -1.55874 2.12132 -2.12132 \nC 1.55874 -2.683901 0.795609 -3 0 -3 \nC -0.795609 -3 -1.55874 -2.683901 -2.12132 -2.12132 \nC -2.683901 -1.55874 -3 -0.795609 -3 0 \nC -3 0.795609 -2.683901 1.55874 -2.12132 2.12132 \nC -1.55874 2.683901 -0.795609 3 0 3 \nz\n\" id=\"me10eaa01c3\" style=\"stroke:#000000;\"/>\n    </defs>\n    <g clip-path=\"url(#p8307b7306f)\">\n     <use style=\"fill:#008000;stroke:#000000;\" x=\"484.681259\" xlink:href=\"#me10eaa01c3\" y=\"396.775289\"/>\n    </g>\n   </g>\n   <g id=\"PathCollection_2\">\n    <defs>\n     <path d=\"M 0 -3 \nL -0.673542 -0.927051 \nL -2.85317 -0.927051 \nL -1.089814 0.354102 \nL -1.763356 2.427051 \nL -0 1.145898 \nL 1.763356 2.427051 \nL 1.089814 0.354102 \nL 2.85317 -0.927051 \nL 0.673542 -0.927051 \nz\n\" id=\"m442e26ae08\" style=\"stroke:#000000;\"/>\n    </defs>\n    <g clip-path=\"url(#p8307b7306f)\">\n     <use style=\"fill:#0000ff;stroke:#000000;\" x=\"481.214587\" xlink:href=\"#m442e26ae08\" y=\"408.658832\"/>\n    </g>\n   </g>\n   <g id=\"patch_3\">\n    <path clip-path=\"url(#p8307b7306f)\" d=\"M 493.991792 309.638272 \nL 496.89121 322.896095 \nL 492.628189 322.440594 \nL 484.685526 396.775745 \nL 484.676991 396.774833 \nL 492.619654 322.439682 \nL 488.356633 321.984181 \nz\n\" style=\"fill:#008000;stroke:#008000;stroke-linejoin:miter;\"/>\n   </g>\n   <g id=\"patch_4\">\n    <path clip-path=\"url(#p8307b7306f)\" d=\"M 489.714321 410.261091 \nL 492.450063 384.657359 \nL 479.648197 383.289488 \nL 476.912454 408.89322 \nz\n\" style=\"fill:none;stroke:#000000;stroke-linejoin:miter;\"/>\n   </g>\n   <g id=\"matplotlib.axis_1\">\n    <g id=\"xtick_1\">\n     <g id=\"line2d_1\">\n      <defs>\n       <path d=\"M 0 0 \nL 0 3.5 \n\" id=\"m97d2c36aec\" style=\"stroke:#000000;stroke-width:0.8;\"/>\n      </defs>\n      <g>\n       <use style=\"stroke:#000000;stroke-width:0.8;\" x=\"35.304688\" xlink:href=\"#m97d2c36aec\" y=\"822.6\"/>\n      </g>\n     </g>\n     <g id=\"text_1\">\n      <!-- −20 -->\n      <defs>\n       <path d=\"M 10.59375 35.5 \nL 73.1875 35.5 \nL 73.1875 27.203125 \nL 10.59375 27.203125 \nz\n\" id=\"DejaVuSans-8722\"/>\n       <path d=\"M 19.1875 8.296875 \nL 53.609375 8.296875 \nL 53.609375 0 \nL 7.328125 0 \nL 7.328125 8.296875 \nQ 12.9375 14.109375 22.625 23.890625 \nQ 32.328125 33.6875 34.8125 36.53125 \nQ 39.546875 41.84375 41.421875 45.53125 \nQ 43.3125 49.21875 43.3125 52.78125 \nQ 43.3125 58.59375 39.234375 62.25 \nQ 35.15625 65.921875 28.609375 65.921875 \nQ 23.96875 65.921875 18.8125 64.3125 \nQ 13.671875 62.703125 7.8125 59.421875 \nL 7.8125 69.390625 \nQ 13.765625 71.78125 18.9375 73 \nQ 24.125 74.21875 28.421875 74.21875 \nQ 39.75 74.21875 46.484375 68.546875 \nQ 53.21875 62.890625 53.21875 53.421875 \nQ 53.21875 48.921875 51.53125 44.890625 \nQ 49.859375 40.875 45.40625 35.40625 \nQ 44.1875 33.984375 37.640625 27.21875 \nQ 31.109375 20.453125 19.1875 8.296875 \nz\n\" id=\"DejaVuSans-50\"/>\n       <path d=\"M 31.78125 66.40625 \nQ 24.171875 66.40625 20.328125 58.90625 \nQ 16.5 51.421875 16.5 36.375 \nQ 16.5 21.390625 20.328125 13.890625 \nQ 24.171875 6.390625 31.78125 6.390625 \nQ 39.453125 6.390625 43.28125 13.890625 \nQ 47.125 21.390625 47.125 36.375 \nQ 47.125 51.421875 43.28125 58.90625 \nQ 39.453125 66.40625 31.78125 66.40625 \nz\nM 31.78125 74.21875 \nQ 44.046875 74.21875 50.515625 64.515625 \nQ 56.984375 54.828125 56.984375 36.375 \nQ 56.984375 17.96875 50.515625 8.265625 \nQ 44.046875 -1.421875 31.78125 -1.421875 \nQ 19.53125 -1.421875 13.0625 8.265625 \nQ 6.59375 17.96875 6.59375 36.375 \nQ 6.59375 54.828125 13.0625 64.515625 \nQ 19.53125 74.21875 31.78125 74.21875 \nz\n\" id=\"DejaVuSans-48\"/>\n      </defs>\n      <g transform=\"translate(24.752344 837.198437)scale(0.1 -0.1)\">\n       <use xlink:href=\"#DejaVuSans-8722\"/>\n       <use x=\"83.789062\" xlink:href=\"#DejaVuSans-50\"/>\n       <use x=\"147.412109\" xlink:href=\"#DejaVuSans-48\"/>\n      </g>\n     </g>\n    </g>\n    <g id=\"xtick_2\">\n     <g id=\"line2d_2\">\n      <g>\n       <use style=\"stroke:#000000;stroke-width:0.8;\" x=\"206.967845\" xlink:href=\"#m97d2c36aec\" y=\"822.6\"/>\n      </g>\n     </g>\n     <g id=\"text_2\">\n      <!-- 0 -->\n      <g transform=\"translate(203.786595 837.198437)scale(0.1 -0.1)\">\n       <use xlink:href=\"#DejaVuSans-48\"/>\n      </g>\n     </g>\n    </g>\n    <g id=\"xtick_3\">\n     <g id=\"line2d_3\">\n      <g>\n       <use style=\"stroke:#000000;stroke-width:0.8;\" x=\"378.631003\" xlink:href=\"#m97d2c36aec\" y=\"822.6\"/>\n      </g>\n     </g>\n     <g id=\"text_3\">\n      <!-- 20 -->\n      <g transform=\"translate(372.268503 837.198437)scale(0.1 -0.1)\">\n       <use xlink:href=\"#DejaVuSans-50\"/>\n       <use x=\"63.623047\" xlink:href=\"#DejaVuSans-48\"/>\n      </g>\n     </g>\n    </g>\n    <g id=\"xtick_4\">\n     <g id=\"line2d_4\">\n      <g>\n       <use style=\"stroke:#000000;stroke-width:0.8;\" x=\"550.294161\" xlink:href=\"#m97d2c36aec\" y=\"822.6\"/>\n      </g>\n     </g>\n     <g id=\"text_4\">\n      <!-- 40 -->\n      <defs>\n       <path d=\"M 37.796875 64.3125 \nL 12.890625 25.390625 \nL 37.796875 25.390625 \nz\nM 35.203125 72.90625 \nL 47.609375 72.90625 \nL 47.609375 25.390625 \nL 58.015625 25.390625 \nL 58.015625 17.1875 \nL 47.609375 17.1875 \nL 47.609375 0 \nL 37.796875 0 \nL 37.796875 17.1875 \nL 4.890625 17.1875 \nL 4.890625 26.703125 \nz\n\" id=\"DejaVuSans-52\"/>\n      </defs>\n      <g transform=\"translate(543.931661 837.198437)scale(0.1 -0.1)\">\n       <use xlink:href=\"#DejaVuSans-52\"/>\n       <use x=\"63.623047\" xlink:href=\"#DejaVuSans-48\"/>\n      </g>\n     </g>\n    </g>\n    <g id=\"xtick_5\">\n     <g id=\"line2d_5\">\n      <g>\n       <use style=\"stroke:#000000;stroke-width:0.8;\" x=\"721.957319\" xlink:href=\"#m97d2c36aec\" y=\"822.6\"/>\n      </g>\n     </g>\n     <g id=\"text_5\">\n      <!-- 60 -->\n      <defs>\n       <path d=\"M 33.015625 40.375 \nQ 26.375 40.375 22.484375 35.828125 \nQ 18.609375 31.296875 18.609375 23.390625 \nQ 18.609375 15.53125 22.484375 10.953125 \nQ 26.375 6.390625 33.015625 6.390625 \nQ 39.65625 6.390625 43.53125 10.953125 \nQ 47.40625 15.53125 47.40625 23.390625 \nQ 47.40625 31.296875 43.53125 35.828125 \nQ 39.65625 40.375 33.015625 40.375 \nz\nM 52.59375 71.296875 \nL 52.59375 62.3125 \nQ 48.875 64.0625 45.09375 64.984375 \nQ 41.3125 65.921875 37.59375 65.921875 \nQ 27.828125 65.921875 22.671875 59.328125 \nQ 17.53125 52.734375 16.796875 39.40625 \nQ 19.671875 43.65625 24.015625 45.921875 \nQ 28.375 48.1875 33.59375 48.1875 \nQ 44.578125 48.1875 50.953125 41.515625 \nQ 57.328125 34.859375 57.328125 23.390625 \nQ 57.328125 12.15625 50.6875 5.359375 \nQ 44.046875 -1.421875 33.015625 -1.421875 \nQ 20.359375 -1.421875 13.671875 8.265625 \nQ 6.984375 17.96875 6.984375 36.375 \nQ 6.984375 53.65625 15.1875 63.9375 \nQ 23.390625 74.21875 37.203125 74.21875 \nQ 40.921875 74.21875 44.703125 73.484375 \nQ 48.484375 72.75 52.59375 71.296875 \nz\n\" id=\"DejaVuSans-54\"/>\n      </defs>\n      <g transform=\"translate(715.594819 837.198437)scale(0.1 -0.1)\">\n       <use xlink:href=\"#DejaVuSans-54\"/>\n       <use x=\"63.623047\" xlink:href=\"#DejaVuSans-48\"/>\n      </g>\n     </g>\n    </g>\n   </g>\n   <g id=\"matplotlib.axis_2\">\n    <g id=\"ytick_1\">\n     <g id=\"line2d_6\">\n      <defs>\n       <path d=\"M 0 0 \nL -3.5 0 \n\" id=\"m1979e8b75d\" style=\"stroke:#000000;stroke-width:0.8;\"/>\n      </defs>\n      <g>\n       <use style=\"stroke:#000000;stroke-width:0.8;\" x=\"35.304688\" xlink:href=\"#m1979e8b75d\" y=\"822.6\"/>\n      </g>\n     </g>\n     <g id=\"text_6\">\n      <!-- −20 -->\n      <g transform=\"translate(7.2 826.399219)scale(0.1 -0.1)\">\n       <use xlink:href=\"#DejaVuSans-8722\"/>\n       <use x=\"83.789062\" xlink:href=\"#DejaVuSans-50\"/>\n       <use x=\"147.412109\" xlink:href=\"#DejaVuSans-48\"/>\n      </g>\n     </g>\n    </g>\n    <g id=\"ytick_2\">\n     <g id=\"line2d_7\">\n      <g>\n       <use style=\"stroke:#000000;stroke-width:0.8;\" x=\"35.304688\" xlink:href=\"#m1979e8b75d\" y=\"650.936842\"/>\n      </g>\n     </g>\n     <g id=\"text_7\">\n      <!-- 0 -->\n      <g transform=\"translate(21.942188 654.736061)scale(0.1 -0.1)\">\n       <use xlink:href=\"#DejaVuSans-48\"/>\n      </g>\n     </g>\n    </g>\n    <g id=\"ytick_3\">\n     <g id=\"line2d_8\">\n      <g>\n       <use style=\"stroke:#000000;stroke-width:0.8;\" x=\"35.304688\" xlink:href=\"#m1979e8b75d\" y=\"479.273684\"/>\n      </g>\n     </g>\n     <g id=\"text_8\">\n      <!-- 20 -->\n      <g transform=\"translate(15.579688 483.072903)scale(0.1 -0.1)\">\n       <use xlink:href=\"#DejaVuSans-50\"/>\n       <use x=\"63.623047\" xlink:href=\"#DejaVuSans-48\"/>\n      </g>\n     </g>\n    </g>\n    <g id=\"ytick_4\">\n     <g id=\"line2d_9\">\n      <g>\n       <use style=\"stroke:#000000;stroke-width:0.8;\" x=\"35.304688\" xlink:href=\"#m1979e8b75d\" y=\"307.610526\"/>\n      </g>\n     </g>\n     <g id=\"text_9\">\n      <!-- 40 -->\n      <g transform=\"translate(15.579688 311.409745)scale(0.1 -0.1)\">\n       <use xlink:href=\"#DejaVuSans-52\"/>\n       <use x=\"63.623047\" xlink:href=\"#DejaVuSans-48\"/>\n      </g>\n     </g>\n    </g>\n    <g id=\"ytick_5\">\n     <g id=\"line2d_10\">\n      <g>\n       <use style=\"stroke:#000000;stroke-width:0.8;\" x=\"35.304688\" xlink:href=\"#m1979e8b75d\" y=\"135.947368\"/>\n      </g>\n     </g>\n     <g id=\"text_10\">\n      <!-- 60 -->\n      <g transform=\"translate(15.579688 139.746587)scale(0.1 -0.1)\">\n       <use xlink:href=\"#DejaVuSans-54\"/>\n       <use x=\"63.623047\" xlink:href=\"#DejaVuSans-48\"/>\n      </g>\n     </g>\n    </g>\n   </g>\n   <g id=\"line2d_11\">\n    <path clip-path=\"url(#p8307b7306f)\" d=\"M 258.423913 607.164167 \nL 266.947081 606.034335 \nL 275.442223 604.632242 \nL 283.898448 602.959008 \nL 292.304909 601.01619 \nL 300.650824 598.80578 \nL 308.925489 596.330198 \nL 317.118297 593.592294 \nL 325.218755 590.595344 \nL 333.216501 587.343041 \nL 341.101322 583.839493 \nL 348.863166 580.089217 \nL 356.492167 576.097133 \nL 363.97865 571.868554 \nL 371.313156 567.409181 \nL 378.486454 562.725094 \nL 385.489554 557.822739 \nL 392.313727 552.708926 \nL 398.950514 547.390811 \nL 405.391742 541.87589 \nL 411.629539 536.171985 \nL 417.656347 530.287233 \nL 423.464931 524.230074 \nL 429.048395 518.009238 \nL 434.400192 511.633727 \nL 439.514135 505.112811 \nL 444.384407 498.456002 \nL 449.005574 491.673047 \nL 453.372588 484.773911 \nL 457.480803 477.768759 \nL 461.325979 470.667944 \nL 464.904288 463.481988 \nL 468.212326 456.221564 \nL 471.247112 448.897484 \nL 474.006102 441.520678 \nL 476.487186 434.102178 \nL 478.688696 426.653099 \nL 480.60941 419.184625 \nL 482.248551 411.707988 \nL 483.605792 404.234451 \nL 484.681259 396.775289 \n\" style=\"fill:none;stroke:#008000;stroke-linecap:square;stroke-width:1.5;\"/>\n   </g>\n   <g id=\"patch_5\">\n    <path d=\"M 35.304688 822.6 \nL 35.304688 7.2 \n\" style=\"fill:none;stroke:#000000;stroke-linecap:square;stroke-linejoin:miter;stroke-width:0.8;\"/>\n   </g>\n   <g id=\"patch_6\">\n    <path d=\"M 850.704688 822.6 \nL 850.704688 7.2 \n\" style=\"fill:none;stroke:#000000;stroke-linecap:square;stroke-linejoin:miter;stroke-width:0.8;\"/>\n   </g>\n   <g id=\"patch_7\">\n    <path d=\"M 35.304688 822.6 \nL 850.704688 822.6 \n\" style=\"fill:none;stroke:#000000;stroke-linecap:square;stroke-linejoin:miter;stroke-width:0.8;\"/>\n   </g>\n   <g id=\"patch_8\">\n    <path d=\"M 35.304688 7.2 \nL 850.704688 7.2 \n\" style=\"fill:none;stroke:#000000;stroke-linecap:square;stroke-linejoin:miter;stroke-width:0.8;\"/>\n   </g>\n   <g id=\"patch_9\">\n    <path clip-path=\"url(#p8307b7306f)\" d=\"M 491.759815 394.644839 \nC 494.036095 394.644839 496.219451 393.740463 497.829024 392.13089 \nC 499.438597 390.521317 500.342973 388.337961 500.342973 386.061681 \nC 500.342973 383.785401 499.438597 381.602045 497.829024 379.992472 \nC 496.219451 378.382898 494.036095 377.478523 491.759815 377.478523 \nC 489.483535 377.478523 487.300179 378.382898 485.690606 379.992472 \nC 484.081032 381.602045 483.176657 383.785401 483.176657 386.061681 \nC 483.176657 388.337961 484.081032 390.521317 485.690606 392.13089 \nC 487.300179 393.740463 489.483535 394.644839 491.759815 394.644839 \nz\n\" style=\"fill:#0000ff;opacity:0.3;stroke:#000000;stroke-linejoin:miter;\"/>\n   </g>\n   <g id=\"legend_1\">\n    <g id=\"patch_10\">\n     <path d=\"M 742.835938 44.55625 \nL 843.704688 44.55625 \nQ 845.704688 44.55625 845.704688 42.55625 \nL 845.704688 14.2 \nQ 845.704688 12.2 843.704688 12.2 \nL 742.835938 12.2 \nQ 740.835938 12.2 740.835938 14.2 \nL 740.835938 42.55625 \nQ 740.835938 44.55625 742.835938 44.55625 \nz\n\" style=\"fill:#ffffff;opacity:0.8;stroke:#cccccc;stroke-linejoin:miter;\"/>\n    </g>\n    <g id=\"line2d_12\">\n     <path d=\"M 744.835938 20.298437 \nL 764.835938 20.298437 \n\" style=\"fill:none;stroke:#0000ff;stroke-linecap:square;stroke-width:4;\"/>\n    </g>\n    <g id=\"line2d_13\"/>\n    <g id=\"text_11\">\n     <!-- Measurement -->\n     <defs>\n      <path d=\"M 9.8125 72.90625 \nL 24.515625 72.90625 \nL 43.109375 23.296875 \nL 61.8125 72.90625 \nL 76.515625 72.90625 \nL 76.515625 0 \nL 66.890625 0 \nL 66.890625 64.015625 \nL 48.09375 14.015625 \nL 38.1875 14.015625 \nL 19.390625 64.015625 \nL 19.390625 0 \nL 9.8125 0 \nz\n\" id=\"DejaVuSans-77\"/>\n      <path d=\"M 56.203125 29.59375 \nL 56.203125 25.203125 \nL 14.890625 25.203125 \nQ 15.484375 15.921875 20.484375 11.0625 \nQ 25.484375 6.203125 34.421875 6.203125 \nQ 39.59375 6.203125 44.453125 7.46875 \nQ 49.3125 8.734375 54.109375 11.28125 \nL 54.109375 2.78125 \nQ 49.265625 0.734375 44.1875 -0.34375 \nQ 39.109375 -1.421875 33.890625 -1.421875 \nQ 20.796875 -1.421875 13.15625 6.1875 \nQ 5.515625 13.8125 5.515625 26.8125 \nQ 5.515625 40.234375 12.765625 48.109375 \nQ 20.015625 56 32.328125 56 \nQ 43.359375 56 49.78125 48.890625 \nQ 56.203125 41.796875 56.203125 29.59375 \nz\nM 47.21875 32.234375 \nQ 47.125 39.59375 43.09375 43.984375 \nQ 39.0625 48.390625 32.421875 48.390625 \nQ 24.90625 48.390625 20.390625 44.140625 \nQ 15.875 39.890625 15.1875 32.171875 \nz\n\" id=\"DejaVuSans-101\"/>\n      <path d=\"M 34.28125 27.484375 \nQ 23.390625 27.484375 19.1875 25 \nQ 14.984375 22.515625 14.984375 16.5 \nQ 14.984375 11.71875 18.140625 8.90625 \nQ 21.296875 6.109375 26.703125 6.109375 \nQ 34.1875 6.109375 38.703125 11.40625 \nQ 43.21875 16.703125 43.21875 25.484375 \nL 43.21875 27.484375 \nz\nM 52.203125 31.203125 \nL 52.203125 0 \nL 43.21875 0 \nL 43.21875 8.296875 \nQ 40.140625 3.328125 35.546875 0.953125 \nQ 30.953125 -1.421875 24.3125 -1.421875 \nQ 15.921875 -1.421875 10.953125 3.296875 \nQ 6 8.015625 6 15.921875 \nQ 6 25.140625 12.171875 29.828125 \nQ 18.359375 34.515625 30.609375 34.515625 \nL 43.21875 34.515625 \nL 43.21875 35.40625 \nQ 43.21875 41.609375 39.140625 45 \nQ 35.0625 48.390625 27.6875 48.390625 \nQ 23 48.390625 18.546875 47.265625 \nQ 14.109375 46.140625 10.015625 43.890625 \nL 10.015625 52.203125 \nQ 14.9375 54.109375 19.578125 55.046875 \nQ 24.21875 56 28.609375 56 \nQ 40.484375 56 46.34375 49.84375 \nQ 52.203125 43.703125 52.203125 31.203125 \nz\n\" id=\"DejaVuSans-97\"/>\n      <path d=\"M 44.28125 53.078125 \nL 44.28125 44.578125 \nQ 40.484375 46.53125 36.375 47.5 \nQ 32.28125 48.484375 27.875 48.484375 \nQ 21.1875 48.484375 17.84375 46.4375 \nQ 14.5 44.390625 14.5 40.28125 \nQ 14.5 37.15625 16.890625 35.375 \nQ 19.28125 33.59375 26.515625 31.984375 \nL 29.59375 31.296875 \nQ 39.15625 29.25 43.1875 25.515625 \nQ 47.21875 21.78125 47.21875 15.09375 \nQ 47.21875 7.46875 41.1875 3.015625 \nQ 35.15625 -1.421875 24.609375 -1.421875 \nQ 20.21875 -1.421875 15.453125 -0.5625 \nQ 10.6875 0.296875 5.421875 2 \nL 5.421875 11.28125 \nQ 10.40625 8.6875 15.234375 7.390625 \nQ 20.0625 6.109375 24.8125 6.109375 \nQ 31.15625 6.109375 34.5625 8.28125 \nQ 37.984375 10.453125 37.984375 14.40625 \nQ 37.984375 18.0625 35.515625 20.015625 \nQ 33.0625 21.96875 24.703125 23.78125 \nL 21.578125 24.515625 \nQ 13.234375 26.265625 9.515625 29.90625 \nQ 5.8125 33.546875 5.8125 39.890625 \nQ 5.8125 47.609375 11.28125 51.796875 \nQ 16.75 56 26.8125 56 \nQ 31.78125 56 36.171875 55.265625 \nQ 40.578125 54.546875 44.28125 53.078125 \nz\n\" id=\"DejaVuSans-115\"/>\n      <path d=\"M 8.5 21.578125 \nL 8.5 54.6875 \nL 17.484375 54.6875 \nL 17.484375 21.921875 \nQ 17.484375 14.15625 20.5 10.265625 \nQ 23.53125 6.390625 29.59375 6.390625 \nQ 36.859375 6.390625 41.078125 11.03125 \nQ 45.3125 15.671875 45.3125 23.6875 \nL 45.3125 54.6875 \nL 54.296875 54.6875 \nL 54.296875 0 \nL 45.3125 0 \nL 45.3125 8.40625 \nQ 42.046875 3.421875 37.71875 1 \nQ 33.40625 -1.421875 27.6875 -1.421875 \nQ 18.265625 -1.421875 13.375 4.4375 \nQ 8.5 10.296875 8.5 21.578125 \nz\nM 31.109375 56 \nz\n\" id=\"DejaVuSans-117\"/>\n      <path d=\"M 41.109375 46.296875 \nQ 39.59375 47.171875 37.8125 47.578125 \nQ 36.03125 48 33.890625 48 \nQ 26.265625 48 22.1875 43.046875 \nQ 18.109375 38.09375 18.109375 28.8125 \nL 18.109375 0 \nL 9.078125 0 \nL 9.078125 54.6875 \nL 18.109375 54.6875 \nL 18.109375 46.1875 \nQ 20.953125 51.171875 25.484375 53.578125 \nQ 30.03125 56 36.53125 56 \nQ 37.453125 56 38.578125 55.875 \nQ 39.703125 55.765625 41.0625 55.515625 \nz\n\" id=\"DejaVuSans-114\"/>\n      <path d=\"M 52 44.1875 \nQ 55.375 50.25 60.0625 53.125 \nQ 64.75 56 71.09375 56 \nQ 79.640625 56 84.28125 50.015625 \nQ 88.921875 44.046875 88.921875 33.015625 \nL 88.921875 0 \nL 79.890625 0 \nL 79.890625 32.71875 \nQ 79.890625 40.578125 77.09375 44.375 \nQ 74.3125 48.1875 68.609375 48.1875 \nQ 61.625 48.1875 57.5625 43.546875 \nQ 53.515625 38.921875 53.515625 30.90625 \nL 53.515625 0 \nL 44.484375 0 \nL 44.484375 32.71875 \nQ 44.484375 40.625 41.703125 44.40625 \nQ 38.921875 48.1875 33.109375 48.1875 \nQ 26.21875 48.1875 22.15625 43.53125 \nQ 18.109375 38.875 18.109375 30.90625 \nL 18.109375 0 \nL 9.078125 0 \nL 9.078125 54.6875 \nL 18.109375 54.6875 \nL 18.109375 46.1875 \nQ 21.1875 51.21875 25.484375 53.609375 \nQ 29.78125 56 35.6875 56 \nQ 41.65625 56 45.828125 52.96875 \nQ 50 49.953125 52 44.1875 \nz\n\" id=\"DejaVuSans-109\"/>\n      <path d=\"M 54.890625 33.015625 \nL 54.890625 0 \nL 45.90625 0 \nL 45.90625 32.71875 \nQ 45.90625 40.484375 42.875 44.328125 \nQ 39.84375 48.1875 33.796875 48.1875 \nQ 26.515625 48.1875 22.3125 43.546875 \nQ 18.109375 38.921875 18.109375 30.90625 \nL 18.109375 0 \nL 9.078125 0 \nL 9.078125 54.6875 \nL 18.109375 54.6875 \nL 18.109375 46.1875 \nQ 21.34375 51.125 25.703125 53.5625 \nQ 30.078125 56 35.796875 56 \nQ 45.21875 56 50.046875 50.171875 \nQ 54.890625 44.34375 54.890625 33.015625 \nz\n\" id=\"DejaVuSans-110\"/>\n      <path d=\"M 18.3125 70.21875 \nL 18.3125 54.6875 \nL 36.8125 54.6875 \nL 36.8125 47.703125 \nL 18.3125 47.703125 \nL 18.3125 18.015625 \nQ 18.3125 11.328125 20.140625 9.421875 \nQ 21.96875 7.515625 27.59375 7.515625 \nL 36.8125 7.515625 \nL 36.8125 0 \nL 27.59375 0 \nQ 17.1875 0 13.234375 3.875 \nQ 9.28125 7.765625 9.28125 18.015625 \nL 9.28125 47.703125 \nL 2.6875 47.703125 \nL 2.6875 54.6875 \nL 9.28125 54.6875 \nL 9.28125 70.21875 \nz\n\" id=\"DejaVuSans-116\"/>\n     </defs>\n     <g transform=\"translate(772.835938 23.798437)scale(0.1 -0.1)\">\n      <use xlink:href=\"#DejaVuSans-77\"/>\n      <use x=\"86.279297\" xlink:href=\"#DejaVuSans-101\"/>\n      <use x=\"147.802734\" xlink:href=\"#DejaVuSans-97\"/>\n      <use x=\"209.082031\" xlink:href=\"#DejaVuSans-115\"/>\n      <use x=\"261.181641\" xlink:href=\"#DejaVuSans-117\"/>\n      <use x=\"324.560547\" xlink:href=\"#DejaVuSans-114\"/>\n      <use x=\"365.642578\" xlink:href=\"#DejaVuSans-101\"/>\n      <use x=\"427.166016\" xlink:href=\"#DejaVuSans-109\"/>\n      <use x=\"524.578125\" xlink:href=\"#DejaVuSans-101\"/>\n      <use x=\"586.101562\" xlink:href=\"#DejaVuSans-110\"/>\n      <use x=\"649.480469\" xlink:href=\"#DejaVuSans-116\"/>\n     </g>\n    </g>\n    <g id=\"line2d_14\">\n     <path d=\"M 744.835938 34.976562 \nL 764.835938 34.976562 \n\" style=\"fill:none;stroke:#008000;stroke-linecap:square;stroke-width:4;\"/>\n    </g>\n    <g id=\"line2d_15\"/>\n    <g id=\"text_12\">\n     <!-- Real position -->\n     <defs>\n      <path d=\"M 44.390625 34.1875 \nQ 47.5625 33.109375 50.5625 29.59375 \nQ 53.5625 26.078125 56.59375 19.921875 \nL 66.609375 0 \nL 56 0 \nL 46.6875 18.703125 \nQ 43.0625 26.03125 39.671875 28.421875 \nQ 36.28125 30.8125 30.421875 30.8125 \nL 19.671875 30.8125 \nL 19.671875 0 \nL 9.8125 0 \nL 9.8125 72.90625 \nL 32.078125 72.90625 \nQ 44.578125 72.90625 50.734375 67.671875 \nQ 56.890625 62.453125 56.890625 51.90625 \nQ 56.890625 45.015625 53.6875 40.46875 \nQ 50.484375 35.9375 44.390625 34.1875 \nz\nM 19.671875 64.796875 \nL 19.671875 38.921875 \nL 32.078125 38.921875 \nQ 39.203125 38.921875 42.84375 42.21875 \nQ 46.484375 45.515625 46.484375 51.90625 \nQ 46.484375 58.296875 42.84375 61.546875 \nQ 39.203125 64.796875 32.078125 64.796875 \nz\n\" id=\"DejaVuSans-82\"/>\n      <path d=\"M 9.421875 75.984375 \nL 18.40625 75.984375 \nL 18.40625 0 \nL 9.421875 0 \nz\n\" id=\"DejaVuSans-108\"/>\n      <path id=\"DejaVuSans-32\"/>\n      <path d=\"M 18.109375 8.203125 \nL 18.109375 -20.796875 \nL 9.078125 -20.796875 \nL 9.078125 54.6875 \nL 18.109375 54.6875 \nL 18.109375 46.390625 \nQ 20.953125 51.265625 25.265625 53.625 \nQ 29.59375 56 35.59375 56 \nQ 45.5625 56 51.78125 48.09375 \nQ 58.015625 40.1875 58.015625 27.296875 \nQ 58.015625 14.40625 51.78125 6.484375 \nQ 45.5625 -1.421875 35.59375 -1.421875 \nQ 29.59375 -1.421875 25.265625 0.953125 \nQ 20.953125 3.328125 18.109375 8.203125 \nz\nM 48.6875 27.296875 \nQ 48.6875 37.203125 44.609375 42.84375 \nQ 40.53125 48.484375 33.40625 48.484375 \nQ 26.265625 48.484375 22.1875 42.84375 \nQ 18.109375 37.203125 18.109375 27.296875 \nQ 18.109375 17.390625 22.1875 11.75 \nQ 26.265625 6.109375 33.40625 6.109375 \nQ 40.53125 6.109375 44.609375 11.75 \nQ 48.6875 17.390625 48.6875 27.296875 \nz\n\" id=\"DejaVuSans-112\"/>\n      <path d=\"M 30.609375 48.390625 \nQ 23.390625 48.390625 19.1875 42.75 \nQ 14.984375 37.109375 14.984375 27.296875 \nQ 14.984375 17.484375 19.15625 11.84375 \nQ 23.34375 6.203125 30.609375 6.203125 \nQ 37.796875 6.203125 41.984375 11.859375 \nQ 46.1875 17.53125 46.1875 27.296875 \nQ 46.1875 37.015625 41.984375 42.703125 \nQ 37.796875 48.390625 30.609375 48.390625 \nz\nM 30.609375 56 \nQ 42.328125 56 49.015625 48.375 \nQ 55.71875 40.765625 55.71875 27.296875 \nQ 55.71875 13.875 49.015625 6.21875 \nQ 42.328125 -1.421875 30.609375 -1.421875 \nQ 18.84375 -1.421875 12.171875 6.21875 \nQ 5.515625 13.875 5.515625 27.296875 \nQ 5.515625 40.765625 12.171875 48.375 \nQ 18.84375 56 30.609375 56 \nz\n\" id=\"DejaVuSans-111\"/>\n      <path d=\"M 9.421875 54.6875 \nL 18.40625 54.6875 \nL 18.40625 0 \nL 9.421875 0 \nz\nM 9.421875 75.984375 \nL 18.40625 75.984375 \nL 18.40625 64.59375 \nL 9.421875 64.59375 \nz\n\" id=\"DejaVuSans-105\"/>\n     </defs>\n     <g transform=\"translate(772.835938 38.476562)scale(0.1 -0.1)\">\n      <use xlink:href=\"#DejaVuSans-82\"/>\n      <use x=\"69.419922\" xlink:href=\"#DejaVuSans-101\"/>\n      <use x=\"130.943359\" xlink:href=\"#DejaVuSans-97\"/>\n      <use x=\"192.222656\" xlink:href=\"#DejaVuSans-108\"/>\n      <use x=\"220.005859\" xlink:href=\"#DejaVuSans-32\"/>\n      <use x=\"251.792969\" xlink:href=\"#DejaVuSans-112\"/>\n      <use x=\"315.269531\" xlink:href=\"#DejaVuSans-111\"/>\n      <use x=\"376.451172\" xlink:href=\"#DejaVuSans-115\"/>\n      <use x=\"428.550781\" xlink:href=\"#DejaVuSans-105\"/>\n      <use x=\"456.333984\" xlink:href=\"#DejaVuSans-116\"/>\n      <use x=\"495.542969\" xlink:href=\"#DejaVuSans-105\"/>\n      <use x=\"523.326172\" xlink:href=\"#DejaVuSans-111\"/>\n      <use x=\"584.507812\" xlink:href=\"#DejaVuSans-110\"/>\n     </g>\n    </g>\n   </g>\n  </g>\n </g>\n <defs>\n  <clipPath id=\"p8307b7306f\">\n   <rect height=\"815.4\" width=\"815.4\" x=\"35.304688\" y=\"7.2\"/>\n  </clipPath>\n </defs>\n</svg>\n",
      "image/png": "[encoded data removed]"
     },
     "metadata": {}
    },
    {
     "output_type": "error",
     "ename": "AssertionError",
     "evalue": "",
     "traceback": [
      "\u001b[0;31m---------------------------------------------------------------------------\u001b[0m",
      "\u001b[0;31mAssertionError\u001b[0m                            Traceback (most recent call last)",
      "\u001b[0;32m<ipython-input-16-4bf5595e27ca>\u001b[0m in \u001b[0;36m<module>\u001b[0;34m\u001b[0m\n\u001b[1;32m     46\u001b[0m     \u001b[0max\u001b[0m\u001b[0;34m.\u001b[0m\u001b[0mclear\u001b[0m\u001b[0;34m(\u001b[0m\u001b[0;34m)\u001b[0m\u001b[0;34m\u001b[0m\u001b[0;34m\u001b[0m\u001b[0m\n\u001b[1;32m     47\u001b[0m     \u001b[0max\u001b[0m\u001b[0;34m.\u001b[0m\u001b[0mlegend\u001b[0m\u001b[0;34m(\u001b[0m\u001b[0;34m[\u001b[0m\u001b[0mlegend_lines\u001b[0m\u001b[0;34m[\u001b[0m\u001b[0;34m'Measurement'\u001b[0m\u001b[0;34m]\u001b[0m\u001b[0;34m,\u001b[0m \u001b[0mlegend_lines\u001b[0m\u001b[0;34m[\u001b[0m\u001b[0;34m'Real position'\u001b[0m\u001b[0;34m]\u001b[0m\u001b[0;34m]\u001b[0m\u001b[0;34m,\u001b[0m \u001b[0;34m[\u001b[0m\u001b[0;34m'Measurement'\u001b[0m\u001b[0;34m,\u001b[0m \u001b[0;34m'Real position'\u001b[0m\u001b[0;34m]\u001b[0m\u001b[0;34m)\u001b[0m\u001b[0;34m\u001b[0m\u001b[0;34m\u001b[0m\u001b[0m\n\u001b[0;32m---> 48\u001b[0;31m     \u001b[0mcar\u001b[0m\u001b[0;34m.\u001b[0m\u001b[0mmove\u001b[0m\u001b[0;34m(\u001b[0m\u001b[0mdt\u001b[0m\u001b[0;34m)\u001b[0m\u001b[0;34m\u001b[0m\u001b[0;34m\u001b[0m\u001b[0m\n\u001b[0m\u001b[1;32m     49\u001b[0m     \u001b[0mcar_plotter\u001b[0m\u001b[0;34m.\u001b[0m\u001b[0mplot_car\u001b[0m\u001b[0;34m(\u001b[0m\u001b[0max\u001b[0m\u001b[0;34m,\u001b[0m \u001b[0mcar\u001b[0m\u001b[0;34m)\u001b[0m\u001b[0;34m\u001b[0m\u001b[0;34m\u001b[0m\u001b[0m\n\u001b[1;32m     50\u001b[0m     \u001b[0mcar_plotter\u001b[0m\u001b[0;34m.\u001b[0m\u001b[0mplot_trajectory\u001b[0m\u001b[0;34m(\u001b[0m\u001b[0max\u001b[0m\u001b[0;34m,\u001b[0m \u001b[0mcar\u001b[0m\u001b[0;34m,\u001b[0m \u001b[0mtraj_color\u001b[0m\u001b[0;34m=\u001b[0m\u001b[0mreal_color\u001b[0m\u001b[0;34m)\u001b[0m\u001b[0;34m\u001b[0m\u001b[0;34m\u001b[0m\u001b[0m\n",
      "\u001b[0;32m~/workspace/yandex/Y-Data/2nd Semester/sdc/seminar01-localization/sdc/car.py\u001b[0m in \u001b[0;36mmove\u001b[0;34m(self, dt)\u001b[0m\n\u001b[1;32m    118\u001b[0m     \u001b[0;32mdef\u001b[0m \u001b[0mmove\u001b[0m\u001b[0;34m(\u001b[0m\u001b[0mself\u001b[0m\u001b[0;34m,\u001b[0m \u001b[0mdt\u001b[0m\u001b[0;34m)\u001b[0m\u001b[0;34m:\u001b[0m\u001b[0;34m\u001b[0m\u001b[0;34m\u001b[0m\u001b[0m\n\u001b[1;32m    119\u001b[0m         \u001b[0;32massert\u001b[0m \u001b[0misinstance\u001b[0m\u001b[0;34m(\u001b[0m\u001b[0mdt\u001b[0m\u001b[0;34m,\u001b[0m \u001b[0mTimestamp\u001b[0m\u001b[0;34m)\u001b[0m\u001b[0;34m\u001b[0m\u001b[0;34m\u001b[0m\u001b[0m\n\u001b[0;32m--> 120\u001b[0;31m         \u001b[0mself\u001b[0m\u001b[0;34m.\u001b[0m\u001b[0m_movement_model\u001b[0m\u001b[0;34m.\u001b[0m\u001b[0m_move\u001b[0m\u001b[0;34m(\u001b[0m\u001b[0mdt\u001b[0m\u001b[0;34m)\u001b[0m\u001b[0;34m\u001b[0m\u001b[0;34m\u001b[0m\u001b[0m\n\u001b[0m\u001b[1;32m    121\u001b[0m         \u001b[0;31m# update car state history\u001b[0m\u001b[0;34m\u001b[0m\u001b[0;34m\u001b[0m\u001b[0;34m\u001b[0m\u001b[0m\n\u001b[1;32m    122\u001b[0m         \u001b[0mself\u001b[0m\u001b[0;34m.\u001b[0m\u001b[0m_positions_x\u001b[0m\u001b[0;34m.\u001b[0m\u001b[0mappend\u001b[0m\u001b[0;34m(\u001b[0m\u001b[0mself\u001b[0m\u001b[0;34m.\u001b[0m\u001b[0m_position_x\u001b[0m\u001b[0;34m)\u001b[0m\u001b[0;34m\u001b[0m\u001b[0;34m\u001b[0m\u001b[0m\n",
      "\u001b[0;32m~/workspace/yandex/Y-Data/2nd Semester/sdc/seminar01-localization/sdc/cycloid_movement_model.py\u001b[0m in \u001b[0;36m_move\u001b[0;34m(self, dt)\u001b[0m\n\u001b[1;32m     37\u001b[0m \u001b[0;34m\u001b[0m\u001b[0m\n\u001b[1;32m     38\u001b[0m         \u001b[0;31m# shift car time on dt and set the new state of car\u001b[0m\u001b[0;34m\u001b[0m\u001b[0;34m\u001b[0m\u001b[0;34m\u001b[0m\u001b[0m\n\u001b[0;32m---> 39\u001b[0;31m         \u001b[0mcar\u001b[0m\u001b[0;34m.\u001b[0m\u001b[0mtime\u001b[0m \u001b[0;34m+=\u001b[0m \u001b[0mdt\u001b[0m\u001b[0;34m\u001b[0m\u001b[0;34m\u001b[0m\u001b[0m\n\u001b[0m\u001b[1;32m     40\u001b[0m         \u001b[0mcar\u001b[0m\u001b[0;34m.\u001b[0m\u001b[0m_position_x\u001b[0m \u001b[0;34m=\u001b[0m \u001b[0mnew_x\u001b[0m\u001b[0;34m\u001b[0m\u001b[0;34m\u001b[0m\u001b[0m\n\u001b[1;32m     41\u001b[0m         \u001b[0mcar\u001b[0m\u001b[0;34m.\u001b[0m\u001b[0m_position_y\u001b[0m \u001b[0;34m=\u001b[0m \u001b[0mnew_y\u001b[0m\u001b[0;34m\u001b[0m\u001b[0;34m\u001b[0m\u001b[0m\n",
      "\u001b[0;32m~/workspace/yandex/Y-Data/2nd Semester/sdc/seminar01-localization/sdc/timestamp.py\u001b[0m in \u001b[0;36m__iadd__\u001b[0;34m(self, rhs)\u001b[0m\n\u001b[1;32m     81\u001b[0m         \u001b[0mnsec\u001b[0m \u001b[0;34m=\u001b[0m \u001b[0mself\u001b[0m\u001b[0;34m.\u001b[0m\u001b[0mto_nanoseconds\u001b[0m\u001b[0;34m(\u001b[0m\u001b[0;34m)\u001b[0m \u001b[0;34m+\u001b[0m \u001b[0mrhs\u001b[0m\u001b[0;34m.\u001b[0m\u001b[0mto_nanoseconds\u001b[0m\u001b[0;34m(\u001b[0m\u001b[0;34m)\u001b[0m\u001b[0;34m\u001b[0m\u001b[0;34m\u001b[0m\u001b[0m\n\u001b[1;32m     82\u001b[0m         \u001b[0mself\u001b[0m\u001b[0;34m.\u001b[0m\u001b[0msec\u001b[0m \u001b[0;34m=\u001b[0m \u001b[0mnsec\u001b[0m \u001b[0;34m//\u001b[0m \u001b[0mself\u001b[0m\u001b[0;34m.\u001b[0m\u001b[0mNANO_SEC_COEFF\u001b[0m\u001b[0;34m\u001b[0m\u001b[0;34m\u001b[0m\u001b[0m\n\u001b[0;32m---> 83\u001b[0;31m         \u001b[0mself\u001b[0m\u001b[0;34m.\u001b[0m\u001b[0mnsec\u001b[0m \u001b[0;34m=\u001b[0m \u001b[0mnsec\u001b[0m \u001b[0;34m-\u001b[0m \u001b[0mself\u001b[0m\u001b[0;34m.\u001b[0m\u001b[0msec\u001b[0m \u001b[0;34m*\u001b[0m \u001b[0mself\u001b[0m\u001b[0;34m.\u001b[0m\u001b[0mNANO_SEC_COEFF\u001b[0m\u001b[0;34m\u001b[0m\u001b[0;34m\u001b[0m\u001b[0m\n\u001b[0m\u001b[1;32m     84\u001b[0m         \u001b[0;32mreturn\u001b[0m \u001b[0mself\u001b[0m\u001b[0;34m\u001b[0m\u001b[0;34m\u001b[0m\u001b[0m\n\u001b[1;32m     85\u001b[0m \u001b[0;34m\u001b[0m\u001b[0m\n",
      "\u001b[0;32m~/workspace/yandex/Y-Data/2nd Semester/sdc/seminar01-localization/sdc/timestamp.py\u001b[0m in \u001b[0;36mnsec\u001b[0;34m(self, nsec)\u001b[0m\n\u001b[1;32m    103\u001b[0m     \u001b[0;34m@\u001b[0m\u001b[0mnsec\u001b[0m\u001b[0;34m.\u001b[0m\u001b[0msetter\u001b[0m\u001b[0;34m\u001b[0m\u001b[0;34m\u001b[0m\u001b[0m\n\u001b[1;32m    104\u001b[0m     \u001b[0;32mdef\u001b[0m \u001b[0mnsec\u001b[0m\u001b[0;34m(\u001b[0m\u001b[0mself\u001b[0m\u001b[0;34m,\u001b[0m \u001b[0mnsec\u001b[0m\u001b[0;34m)\u001b[0m\u001b[0;34m:\u001b[0m\u001b[0;34m\u001b[0m\u001b[0;34m\u001b[0m\u001b[0m\n\u001b[0;32m--> 105\u001b[0;31m         \u001b[0;32massert\u001b[0m \u001b[0mnsec\u001b[0m \u001b[0;34m==\u001b[0m \u001b[0mint\u001b[0m\u001b[0;34m(\u001b[0m\u001b[0mnsec\u001b[0m\u001b[0;34m)\u001b[0m\u001b[0;34m\u001b[0m\u001b[0;34m\u001b[0m\u001b[0m\n\u001b[0m\u001b[1;32m    106\u001b[0m         \u001b[0;32massert\u001b[0m \u001b[0mnsec\u001b[0m \u001b[0;34m>=\u001b[0m \u001b[0;36m0\u001b[0m\u001b[0;34m\u001b[0m\u001b[0;34m\u001b[0m\u001b[0m\n\u001b[1;32m    107\u001b[0m         \u001b[0;32massert\u001b[0m \u001b[0mnsec\u001b[0m \u001b[0;34m<\u001b[0m \u001b[0mself\u001b[0m\u001b[0;34m.\u001b[0m\u001b[0mNANO_SEC_COEFF\u001b[0m\u001b[0;34m\u001b[0m\u001b[0;34m\u001b[0m\u001b[0m\n",
      "\u001b[0;31mAssertionError\u001b[0m: "
     ]
    }
   ],
   "source": [
    "fig = plt.figure(figsize=(15, 15))\n",
    "ax = plt.subplot(111, aspect='equal')\n",
    "real_color = 'green'\n",
    "obs_color = 'blue'\n",
    "est_color = 'red'\n",
    "\n",
    "legend_lines = {'Measurement': Line2D([0], [0], color=obs_color, lw=4),\n",
    "                'Real position': Line2D([0], [0], color=real_color, lw=4)}\n",
    "\n",
    "# adding the sensors\n",
    "initial_position= [5, 5]\n",
    "initial_velocity = 10\n",
    "initial_yaw = 0.1\n",
    "initial_omega = 0.0\n",
    "car = Car(\n",
    "    initial_position=initial_position,\n",
    "    initial_velocity=initial_velocity,\n",
    "    initial_yaw=initial_yaw,\n",
    "    initial_omega=initial_omega)\n",
    "car.add_sensor(CanSensor(noise_variances=[0.25], random_state=1))  # std = 1 m/s\n",
    "car.add_sensor(GpsSensor(noise_variances=[1., 1.], random_state=2))  # std = 3 m\n",
    "\n",
    "movement_model = CycloidMovementModel(x_vel=2, y_vel=0.5, omega=0.4)\n",
    "#movement_model = LinearMovementModel()\n",
    "car.set_movement_model(movement_model)\n",
    " \n",
    "# time step\n",
    "dt = Timestamp.seconds(0.1)\n",
    "# time duration\n",
    "duration = Timestamp.seconds(10)\n",
    "\n",
    "car_plotter = CarPlotter(car_width=3, car_length=1.5,\n",
    "                         real_color=real_color, obs_color=obs_color, pred_color=est_color)\n",
    "car_plotter.plot_car(ax, car)\n",
    "\n",
    "final_time = car.time + duration\n",
    "\n",
    "# drawing the initial position\n",
    "car_plotter.plot_car(ax, car)\n",
    "display.clear_output(wait=True)\n",
    "time.sleep(0.25)\n",
    "ax.set_xlim(-5, 150)\n",
    "ax.set_ylim(-5, 150)\n",
    "\n",
    "while car.time < final_time:\n",
    "    ax.clear()\n",
    "    ax.legend([legend_lines['Measurement'], legend_lines['Real position']], ['Measurement', 'Real position'])\n",
    "    car.move(dt)\n",
    "    car_plotter.plot_car(ax, car)\n",
    "    car_plotter.plot_trajectory(ax, car, traj_color=real_color)\n",
    "    ax.set_xlim(-20, 75)\n",
    "    ax.set_ylim(-20, 75)\n",
    "    display.clear_output(wait=True)\n",
    "    display.display(plt.gcf())\n",
    "    time.sleep(0.1)\n",
    "\n",
    "display.clear_output(wait=True)"
   ]
  },
  {
   "cell_type": "markdown",
   "metadata": {},
   "source": [
    "### Testing kalman filters (won't work without implementation of methods in `sdc.kalman_filter`)"
   ]
  },
  {
   "cell_type": "code",
   "execution_count": null,
   "metadata": {
    "scrolled": true
   },
   "outputs": [],
   "source": [
    "car = create_car(initial_omega=0.05)\n",
    "kalman_car = create_kalman_car(car)\n",
    "\n",
    "fig = plt.figure(figsize=(15, 15))\n",
    "ax = plt.subplot(111, aspect='equal')\n",
    "real_color = 'green'\n",
    "obs_color = 'blue'\n",
    "est_color = 'red'\n",
    "\n",
    "legend_lines = {'Kalman estimate': Line2D([0], [0], color=est_color, lw=4),\n",
    "                'Measurement': Line2D([0], [0], color=obs_color, lw=4),\n",
    "                'Real position': Line2D([0], [0], color=real_color, lw=4)}\n",
    "\n",
    "dt = Timestamp.seconds(0.1)\n",
    "duration = Timestamp.seconds(40)\n",
    "final_time = car.time + duration\n",
    "\n",
    "car_plotter = CarPlotter(\n",
    "    car_width=3, car_length=1.5,\n",
    "    real_color=real_color, obs_color=obs_color, pred_color=est_color)\n",
    "car_plotter.plot_car(ax, car)\n",
    "\n",
    "# drawing the initial position\n",
    "car_plotter.plot_car(ax, car)\n",
    "display.clear_output(wait=True)\n",
    "time.sleep(0.25)\n",
    "ax.set_xlim(-10, 100)\n",
    "ax.set_ylim(-10, 100)\n",
    "\n",
    "while car.time < final_time:\n",
    "    ax.clear()\n",
    "    ax.legend([legend_lines['Kalman estimate'],\n",
    "               legend_lines['Measurement'],\n",
    "               legend_lines['Real position']], ['Kalman estimate', 'Measurement', 'Real position'])\n",
    "    car.move(dt) # moving car model at time t+dt\n",
    "    kalman_car.move(dt)  # prediction car state at t+dt\n",
    "    # updating state according to observation\n",
    "    for sensor, kalman_sensor in zip(car.sensors, kalman_car.sensors):\n",
    "        observation = sensor.observe()\n",
    "        kalman_sensor.process_observation(observation)\n",
    "        \n",
    "    car_plotter.plot_car(ax, car)\n",
    "    car_plotter.plot_kalman_car(ax, kalman_car)\n",
    "    car_plotter.plot_trajectory(ax, car, traj_color=real_color)\n",
    "    car_plotter.plot_trajectory(ax, kalman_car, traj_color=est_color)\n",
    "    car_plotter.plot_observations(ax, car.gps_sensor.history[:, 0], car.gps_sensor.history[:, 1], color=obs_color)\n",
    "    ax.set_xlim(-5, 100)\n",
    "    ax.set_ylim(-5, 100)\n",
    "    display.clear_output(wait=True)\n",
    "    display.display(plt.gcf())\n",
    "    time.sleep(0.1)\n",
    "\n",
    "display.clear_output(wait=True)"
   ]
  },
  {
   "cell_type": "code",
   "execution_count": null,
   "metadata": {},
   "outputs": [],
   "source": []
  }
 ],
 "metadata": {
  "kernelspec": {
   "display_name": "Python 3",
   "language": "python",
   "name": "python3"
  },
  "language_info": {
   "codemirror_mode": {
    "name": "ipython",
    "version": 3
   },
   "file_extension": ".py",
   "mimetype": "text/x-python",
   "name": "python",
   "nbconvert_exporter": "python",
   "pygments_lexer": "ipython3",
   "version": "3.7.5-final"
  }
 },
 "nbformat": 4,
 "nbformat_minor": 2
}